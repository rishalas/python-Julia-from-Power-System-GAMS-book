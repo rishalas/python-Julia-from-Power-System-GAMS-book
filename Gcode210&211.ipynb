{
  "nbformat": 4,
  "nbformat_minor": 0,
  "metadata": {
    "colab": {
      "name": "Gcode210&211.ipynb",
      "provenance": [],
      "collapsed_sections": [],
      "authorship_tag": "ABX9TyOFui1OG3Cfkd5yAJHumyDu",
      "include_colab_link": true
    },
    "kernelspec": {
      "name": "python3",
      "display_name": "Python 3"
    },
    "language_info": {
      "name": "python"
    }
  },
  "cells": [
    {
      "cell_type": "markdown",
      "metadata": {
        "id": "view-in-github",
        "colab_type": "text"
      },
      "source": [
        "<a href=\"https://colab.research.google.com/github/rishalas/python-from-Power-System-GAMS-book/blob/main/Gcode210%26211.ipynb\" target=\"_parent\"><img src=\"https://colab.research.google.com/assets/colab-badge.svg\" alt=\"Open In Colab\"/></a>"
      ]
    },
    {
      "cell_type": "markdown",
      "metadata": {
        "id": "iOm5RmjfUzDC"
      },
      "source": [
        "# Quadratic Constrained Programming (QCP)\n",
        "\n",
        "the quadratic programming is special case of NLP problems\n",
        "\n",
        "Max of\n",
        " \n",
        " eq1= -3*x1**2 - 10*x1 + x2**2 - 3*x2\n",
        "\n",
        "Subject to\n",
        "\n",
        "eq2 x1+x2*x2 >= 2.5\n",
        "\n",
        "eq3 2*x1+x2 == 1\n"
      ]
    },
    {
      "cell_type": "code",
      "metadata": {
        "colab": {
          "base_uri": "https://localhost:8080/"
        },
        "id": "r2Y7u-nAXOZM",
        "outputId": "238ff6c6-04f6-4f48-e5c1-64f6b307d0a4"
      },
      "source": [
        "!pip install pyomo\n",
        "!apt-get install -y -qq glpk-utils\n",
        "import pyomo.environ as pyo\n",
        "from pyomo.environ import *\n",
        "import numpy as np\n",
        "\n",
        "!wget -N -q \"https://ampl.com/dl/open/ipopt/ipopt-linux64.zip\"\n",
        "!unzip -o -q ipopt-linux64"
      ],
      "execution_count": null,
      "outputs": [
        {
          "output_type": "stream",
          "name": "stdout",
          "text": [
            "Collecting pyomo\n",
            "  Downloading Pyomo-6.1.2-cp37-cp37m-manylinux_2_5_x86_64.manylinux1_x86_64.manylinux_2_12_x86_64.manylinux2010_x86_64.whl (9.1 MB)\n",
            "\u001b[K     |████████████████████████████████| 9.1 MB 18.9 MB/s \n",
            "\u001b[?25hCollecting ply\n",
            "  Downloading ply-3.11-py2.py3-none-any.whl (49 kB)\n",
            "\u001b[K     |████████████████████████████████| 49 kB 5.0 MB/s \n",
            "\u001b[?25hInstalling collected packages: ply, pyomo\n",
            "Successfully installed ply-3.11 pyomo-6.1.2\n",
            "Selecting previously unselected package libsuitesparseconfig5:amd64.\n",
            "(Reading database ... 155013 files and directories currently installed.)\n",
            "Preparing to unpack .../libsuitesparseconfig5_1%3a5.1.2-2_amd64.deb ...\n",
            "Unpacking libsuitesparseconfig5:amd64 (1:5.1.2-2) ...\n",
            "Selecting previously unselected package libamd2:amd64.\n",
            "Preparing to unpack .../libamd2_1%3a5.1.2-2_amd64.deb ...\n",
            "Unpacking libamd2:amd64 (1:5.1.2-2) ...\n",
            "Selecting previously unselected package libcolamd2:amd64.\n",
            "Preparing to unpack .../libcolamd2_1%3a5.1.2-2_amd64.deb ...\n",
            "Unpacking libcolamd2:amd64 (1:5.1.2-2) ...\n",
            "Selecting previously unselected package libglpk40:amd64.\n",
            "Preparing to unpack .../libglpk40_4.65-1_amd64.deb ...\n",
            "Unpacking libglpk40:amd64 (4.65-1) ...\n",
            "Selecting previously unselected package glpk-utils.\n",
            "Preparing to unpack .../glpk-utils_4.65-1_amd64.deb ...\n",
            "Unpacking glpk-utils (4.65-1) ...\n",
            "Setting up libsuitesparseconfig5:amd64 (1:5.1.2-2) ...\n",
            "Setting up libcolamd2:amd64 (1:5.1.2-2) ...\n",
            "Setting up libamd2:amd64 (1:5.1.2-2) ...\n",
            "Setting up libglpk40:amd64 (4.65-1) ...\n",
            "Setting up glpk-utils (4.65-1) ...\n",
            "Processing triggers for libc-bin (2.27-3ubuntu1.3) ...\n",
            "/sbin/ldconfig.real: /usr/local/lib/python3.7/dist-packages/ideep4py/lib/libmkldnn.so.0 is not a symbolic link\n",
            "\n",
            "Processing triggers for man-db (2.8.3-2ubuntu0.1) ...\n"
          ]
        }
      ]
    },
    {
      "cell_type": "code",
      "metadata": {
        "colab": {
          "base_uri": "https://localhost:8080/"
        },
        "id": "5ISYAI9fX4G8",
        "outputId": "d5bdaf25-e24e-4e5d-abf0-a5429875c2cc"
      },
      "source": [
        "# Building Model\n",
        "\n",
        "model = pyo.ConcreteModel()\n",
        "\n",
        "\n",
        "# Builidng constraint\n",
        "model.x1=pyo.Var()\n",
        "model.x2=pyo.Var()\n",
        "\n",
        "x1=model.x1\n",
        "x2=model.x2\n",
        "\n",
        "eq1= x1+x2*x2 >= 2.5\n",
        "eq2= 2*x1+x2 == 1\n",
        "of = -3*x1**2 - 10*x1 + x2**2 - 3*x2\n",
        "\n",
        "model.eq1=pyo.Constraint(expr=eq1)\n",
        "model.eq2=pyo.Constraint(expr=eq2)\n",
        "\n",
        "model.obj=pyo.Objective(expr=of,sense=maximize)\n",
        "\n",
        "results=pyo.SolverFactory('ipopt', executable='/content/ipopt').solve(model)\n",
        "\n",
        "model.pprint()\n",
        "print(\"\\n Results        \\n\")\n",
        "print(\"Objective function   = \",model.obj())\n",
        "print(\"variable x1          = \",x1())\n",
        "print(\"variable x2          = \",x2())"
      ],
      "execution_count": null,
      "outputs": [
        {
          "output_type": "stream",
          "name": "stdout",
          "text": [
            "2 Var Declarations\n",
            "    x1 : Size=1, Index=None\n",
            "        Key  : Lower : Value              : Upper : Fixed : Stale : Domain\n",
            "        None :  None : 1.0930703268962303 :  None : False : False :  Reals\n",
            "    x2 : Size=1, Index=None\n",
            "        Key  : Lower : Value               : Upper : Fixed : Stale : Domain\n",
            "        None :  None : -1.1861406537924606 :  None : False : False :  Reals\n",
            "\n",
            "1 Objective Declarations\n",
            "    obj : Size=1, Index=None, Active=True\n",
            "        Key  : Active : Sense    : Expression\n",
            "        None :   True : maximize : -3*x1**2 - 10*x1 + x2**2 - 3*x2\n",
            "\n",
            "2 Constraint Declarations\n",
            "    eq1 : Size=1, Index=None, Active=True\n",
            "        Key  : Lower : Body       : Upper : Active\n",
            "        None :   2.5 : x1 + x2*x2 :  +Inf :   True\n",
            "    eq2 : Size=1, Index=None, Active=True\n",
            "        Key  : Lower : Body      : Upper : Active\n",
            "        None :   1.0 : 2*x1 + x2 :   1.0 :   True\n",
            "\n",
            "5 Declarations: x1 x2 eq1 eq2 obj\n",
            "\n",
            " Results        \n",
            "\n",
            "Objective function   =  -9.549759875628808\n",
            "variable x1          =  1.0930703268962303\n",
            "variable x2          =  -1.1861406537924606\n"
          ]
        }
      ]
    },
    {
      "cell_type": "markdown",
      "metadata": {
        "id": "kil44FdNZc2E"
      },
      "source": [
        "# QCP Example 2.18\n",
        "\n",
        "Gcode 211"
      ]
    },
    {
      "cell_type": "code",
      "metadata": {
        "colab": {
          "base_uri": "https://localhost:8080/"
        },
        "id": "s3C8r_R5Zk_8",
        "outputId": "6dd156d4-b57f-43ac-e1ad-6361b8f7efce"
      },
      "source": [
        "model = pyo.ConcreteModel()\n",
        "\n",
        "\n",
        "# Builidng constraint\n",
        "model.x1=pyo.Var()\n",
        "model.x2=pyo.Var()\n",
        "\n",
        "x1=model.x1\n",
        "x2=model.x2\n",
        "\n",
        "eq1= x1**2+x2 <=5\n",
        "eq2= 2*x1-x2 >=1\n",
        "of = x1**2 - 10*x1 + x2**2 - 3*x2\n",
        "\n",
        "model.eq1=pyo.Constraint(expr=eq1)\n",
        "model.eq2=pyo.Constraint(expr=eq2)\n",
        "\n",
        "model.obj=pyo.Objective(expr=of,sense=minimize)\n",
        "\n",
        "results=pyo.SolverFactory('ipopt', executable='/content/ipopt').solve(model)\n",
        "\n",
        "results.write()\n",
        "model.pprint()\n",
        "print(\"\\n Results        \\n\")\n",
        "print(\"Objective function   = \",model.obj())\n",
        "print(\"variable x1          = \",x1())\n",
        "print(\"variable x2          = \",x2())"
      ],
      "execution_count": null,
      "outputs": [
        {
          "output_type": "stream",
          "name": "stdout",
          "text": [
            "# ==========================================================\n",
            "# = Solver Results                                         =\n",
            "# ==========================================================\n",
            "# ----------------------------------------------------------\n",
            "#   Problem Information\n",
            "# ----------------------------------------------------------\n",
            "Problem: \n",
            "- Lower bound: -inf\n",
            "  Upper bound: inf\n",
            "  Number of objectives: 1\n",
            "  Number of constraints: 2\n",
            "  Number of variables: 2\n",
            "  Sense: unknown\n",
            "# ----------------------------------------------------------\n",
            "#   Solver Information\n",
            "# ----------------------------------------------------------\n",
            "Solver: \n",
            "- Status: ok\n",
            "  Message: Ipopt 3.12.13\\x3a Optimal Solution Found\n",
            "  Termination condition: optimal\n",
            "  Id: 0\n",
            "  Error rc: 0\n",
            "  Time: 0.022031068801879883\n",
            "# ----------------------------------------------------------\n",
            "#   Solution Information\n",
            "# ----------------------------------------------------------\n",
            "Solution: \n",
            "- number of solutions: 0\n",
            "  number of solutions displayed: 0\n",
            "2 Var Declarations\n",
            "    x1 : Size=1, Index=None\n",
            "        Key  : Lower : Value             : Upper : Fixed : Stale : Domain\n",
            "        None :  None : 2.053621586316015 :  None : False : False :  Reals\n",
            "    x2 : Size=1, Index=None\n",
            "        Key  : Lower : Value              : Upper : Fixed : Stale : Domain\n",
            "        None :  None : 0.7826384284697997 :  None : False : False :  Reals\n",
            "\n",
            "1 Objective Declarations\n",
            "    obj : Size=1, Index=None, Active=True\n",
            "        Key  : Active : Sense    : Expression\n",
            "        None :   True : minimize : x1**2 - 10*x1 + x2**2 - 3*x2\n",
            "\n",
            "2 Constraint Declarations\n",
            "    eq1 : Size=1, Index=None, Active=True\n",
            "        Key  : Lower : Body       : Upper : Active\n",
            "        None :  -Inf : x1**2 + x2 :   5.0 :   True\n",
            "    eq2 : Size=1, Index=None, Active=True\n",
            "        Key  : Lower : Body      : Upper : Active\n",
            "        None :   1.0 : 2*x1 - x2 :  +Inf :   True\n",
            "\n",
            "5 Declarations: x1 x2 eq1 eq2 obj\n",
            "\n",
            " Results        \n",
            "\n",
            "Objective function   =  -18.054246619068767\n",
            "variable x1          =  2.053621586316015\n",
            "variable x2          =  0.7826384284697997\n"
          ]
        }
      ]
    },
    {
      "cell_type": "code",
      "metadata": {
        "id": "inEj-iZ5argH"
      },
      "source": [
        ""
      ],
      "execution_count": null,
      "outputs": []
    }
  ]
}