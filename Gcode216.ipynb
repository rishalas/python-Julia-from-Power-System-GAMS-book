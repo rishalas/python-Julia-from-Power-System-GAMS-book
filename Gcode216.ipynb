{
  "nbformat": 4,
  "nbformat_minor": 0,
  "metadata": {
    "colab": {
      "name": "Gcode216.ipynb",
      "provenance": [],
      "authorship_tag": "ABX9TyMKrUyzWCqaiU3piBU4VBDE",
      "include_colab_link": true
    },
    "kernelspec": {
      "name": "python3",
      "display_name": "Python 3"
    },
    "language_info": {
      "name": "python"
    }
  },
  "cells": [
    {
      "cell_type": "markdown",
      "metadata": {
        "id": "view-in-github",
        "colab_type": "text"
      },
      "source": [
        "<a href=\"https://colab.research.google.com/github/rishalas/python-Julia-from-Power-System-GAMS-book/blob/main/Gcode216.ipynb\" target=\"_parent\"><img src=\"https://colab.research.google.com/assets/colab-badge.svg\" alt=\"Open In Colab\"/></a>"
      ]
    },
    {
      "cell_type": "markdown",
      "metadata": {
        "id": "Y0vRddRaL7h6"
      },
      "source": [
        "# Pareto Optimal Front Example"
      ]
    },
    {
      "cell_type": "code",
      "metadata": {
        "id": "zVrSgpFNL-Zx",
        "colab": {
          "base_uri": "https://localhost:8080/"
        },
        "outputId": "e6f979c1-1eda-4240-bee5-28ed9700866b"
      },
      "source": [
        "!pip install pyomo\n",
        "!apt-get install -y -qq glpk-utils\n",
        "import pyomo.environ as pyo\n",
        "from pyomo.environ import *\n",
        "\n",
        "!wget -N -q \"https://ampl.com/dl/open/ipopt/ipopt-linux64.zip\"\n",
        "!unzip -o -q ipopt-linux64"
      ],
      "execution_count": 47,
      "outputs": [
        {
          "output_type": "stream",
          "name": "stdout",
          "text": [
            "Requirement already satisfied: pyomo in /usr/local/lib/python3.7/dist-packages (6.1.2)\n",
            "Requirement already satisfied: ply in /usr/local/lib/python3.7/dist-packages (from pyomo) (3.11)\n"
          ]
        }
      ]
    },
    {
      "cell_type": "code",
      "metadata": {
        "id": "A-sSpTXMMJi5"
      },
      "source": [
        "model = ConcreteModel()\n",
        "model.x1 = Var(bounds=(1,2))\n",
        "model.x2 = Var(bounds=(1,2))\n",
        "model.Ep = Param(initialize=10000,mutable=True)\n",
        "model.of1= Var()\n",
        "model.of2= Var()"
      ],
      "execution_count": 48,
      "outputs": []
    },
    {
      "cell_type": "code",
      "metadata": {
        "id": "LTuv1ss4OpBR"
      },
      "source": [
        "def rule1(model):\n",
        "  return 2*model.x1+3*model.x2 <= 10;\n",
        "model.eq1=Constraint(rule=rule1)\n",
        "\n",
        "def rule2(model):\n",
        "  return 2*model.x1 - model.x2 >= 0;\n",
        "model.eq2=Constraint(rule=rule2)\n",
        "\n",
        "def rule3(model):\n",
        "  return model.of1 == 4*model.x1 - 0.5*model.x2*model.x2;\n",
        "model.eq3=Constraint(rule=rule3)\n",
        "\n",
        "def rule4(model):\n",
        "  return model.of2 == -1*model.x1*model.x1 + 5*model.x2;\n",
        "model.eq4=Constraint(rule=rule4)\n",
        "\n",
        "model.obj1=Objective(expr=model.of1,sense=maximize)\n",
        "model.obj2=Objective(expr=model.of2,sense=maximize)\n",
        "\n"
      ],
      "execution_count": 49,
      "outputs": []
    },
    {
      "cell_type": "code",
      "metadata": {
        "id": "bGc313pCNGyX"
      },
      "source": [
        "model.obj2.deactivate()\n",
        "results = SolverFactory('ipopt', executable='/content/ipopt').solve(model)\n",
        "maxof1=value(model.obj1)\n",
        "minof2=value(model.obj2)"
      ],
      "execution_count": 50,
      "outputs": []
    },
    {
      "cell_type": "code",
      "metadata": {
        "id": "pfX12jrNQvCv"
      },
      "source": [
        "model.obj1.deactivate()\n",
        "model.obj2.activate()\n",
        "results = SolverFactory('ipopt', executable='/content/ipopt').solve(model)\n",
        "minof1=value(model.obj1)\n",
        "maxof2=value(model.obj2)"
      ],
      "execution_count": 51,
      "outputs": []
    },
    {
      "cell_type": "code",
      "metadata": {
        "colab": {
          "base_uri": "https://localhost:8080/"
        },
        "id": "32260CPcRDcX",
        "outputId": "93cd9c2e-d0a6-4c79-bdac-0dd6700d9043"
      },
      "source": [
        "model.eq5=Constraint(expr=model.of2 <= model.Ep)\n",
        "Nsteps = 21;\n",
        "for counter in range(1,Nsteps+1):\n",
        "    model.Ep = minof2 + (maxof2-minof2 )*(counter-1)/(Nsteps-1)\n",
        "    results = SolverFactory('ipopt', executable='/content/ipopt').solve(model)\n",
        "    print('c',counter)\n",
        "    print('OF1 = ',model.obj1())\n",
        "    print('OF2 = ',model.obj2())"
      ],
      "execution_count": 53,
      "outputs": [
        {
          "output_type": "stream",
          "name": "stdout",
          "text": [
            "WARNING: Implicitly replacing the Component attribute eq5 (type=<class\n",
            "    'pyomo.core.base.constraint.ScalarConstraint'>) on block unknown with a\n",
            "    new Component (type=<class\n",
            "    'pyomo.core.base.constraint.AbstractScalarConstraint'>). This is usually\n",
            "    indicative of a modelling error. To avoid this warning, use\n",
            "    block.del_component() and block.add_component().\n",
            "c 1\n",
            "OF1 =  7.5000000741100985\n",
            "OF2 =  0.9999998903637511\n",
            "c 2\n",
            "OF1 =  7.242153508337711\n",
            "OF2 =  1.3999999064501847\n",
            "c 3\n",
            "OF1 =  7.0184330126292735\n",
            "OF2 =  1.7999999203356323\n",
            "c 4\n",
            "OF1 =  6.76074433499873\n",
            "OF2 =  2.199999934215231\n",
            "c 5\n",
            "OF1 =  6.500129134647127\n",
            "OF2 =  2.599999948093355\n",
            "c 6\n",
            "OF1 =  6.23974693543153\n",
            "OF2 =  2.999999961970924\n",
            "c 7\n",
            "OF1 =  5.980943822498989\n",
            "OF2 =  3.3999999758482327\n",
            "c 8\n",
            "OF1 =  5.725557537545412\n",
            "OF2 =  3.799999989725398\n",
            "c 9\n",
            "OF1 =  5.474811900917539\n",
            "OF2 =  4.200000003602477\n",
            "c 10\n",
            "OF1 =  5.228867742388452\n",
            "OF2 =  4.600000017479503\n",
            "c 11\n",
            "OF1 =  4.987272800590329\n",
            "OF2 =  5.000000031356503\n",
            "c 12\n",
            "OF1 =  4.749105399290169\n",
            "OF2 =  5.400000045233501\n",
            "c 13\n",
            "OF1 =  4.513059507148505\n",
            "OF2 =  5.800000059110521\n",
            "c 14\n",
            "OF1 =  4.277439012256434\n",
            "OF2 =  6.200000072987595\n",
            "c 15\n",
            "OF1 =  4.0400179701735555\n",
            "OF2 =  6.600000086864774\n",
            "c 16\n",
            "OF1 =  3.792104706615418\n",
            "OF2 =  7.000000100742137\n",
            "c 17\n",
            "OF1 =  3.5369366122551846\n",
            "OF2 =  7.400000114619855\n",
            "c 18\n",
            "OF1 =  3.262190726330809\n",
            "OF2 =  7.80000012849832\n",
            "c 19\n",
            "OF1 =  2.94811859814949\n",
            "OF2 =  8.200000142378723\n",
            "c 20\n",
            "OF1 =  2.550973902453476\n",
            "OF2 =  8.600000156267006\n",
            "c 21\n",
            "OF1 =  1.999999986097075\n",
            "OF2 =  9.00000008441063\n"
          ]
        }
      ]
    },
    {
      "cell_type": "code",
      "metadata": {
        "id": "Ofst5_1rSFo7"
      },
      "source": [
        ""
      ],
      "execution_count": 52,
      "outputs": []
    }
  ]
}