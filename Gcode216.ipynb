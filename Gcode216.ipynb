{
  "nbformat": 4,
  "nbformat_minor": 0,
  "metadata": {
    "colab": {
      "name": "Gcode216.ipynb",
      "provenance": [],
      "authorship_tag": "ABX9TyNHII8HZCt55NyISKqxpFmS"
    },
    "kernelspec": {
      "name": "python3",
      "display_name": "Python 3"
    },
    "language_info": {
      "name": "python"
    }
  },
  "cells": [
    {
      "cell_type": "markdown",
      "metadata": {
        "id": "Y0vRddRaL7h6"
      },
      "source": [
        "# Pareto Optimal Front Example"
      ]
    },
    {
      "cell_type": "code",
      "metadata": {
        "id": "zVrSgpFNL-Zx",
        "colab": {
          "base_uri": "https://localhost:8080/"
        },
        "outputId": "eb44d1c1-8a48-42a9-d605-a5fe2394aca3"
      },
      "source": [
        "!pip install pyomo\n",
        "!apt-get install -y -qq glpk-utils\n",
        "import pyomo.environ as pyo\n",
        "from pyomo.environ import *\n",
        "\n",
        "!wget -N -q \"https://ampl.com/dl/open/ipopt/ipopt-linux64.zip\"\n",
        "!unzip -o -q ipopt-linux64"
      ],
      "execution_count": 1,
      "outputs": [
        {
          "output_type": "stream",
          "name": "stdout",
          "text": [
            "Collecting pyomo\n",
            "  Downloading Pyomo-6.1.2-cp37-cp37m-manylinux_2_5_x86_64.manylinux1_x86_64.manylinux_2_12_x86_64.manylinux2010_x86_64.whl (9.1 MB)\n",
            "\u001b[K     |████████████████████████████████| 9.1 MB 5.4 MB/s \n",
            "\u001b[?25hCollecting ply\n",
            "  Downloading ply-3.11-py2.py3-none-any.whl (49 kB)\n",
            "\u001b[K     |████████████████████████████████| 49 kB 4.5 MB/s \n",
            "\u001b[?25hInstalling collected packages: ply, pyomo\n",
            "Successfully installed ply-3.11 pyomo-6.1.2\n",
            "Selecting previously unselected package libsuitesparseconfig5:amd64.\n",
            "(Reading database ... 155062 files and directories currently installed.)\n",
            "Preparing to unpack .../libsuitesparseconfig5_1%3a5.1.2-2_amd64.deb ...\n",
            "Unpacking libsuitesparseconfig5:amd64 (1:5.1.2-2) ...\n",
            "Selecting previously unselected package libamd2:amd64.\n",
            "Preparing to unpack .../libamd2_1%3a5.1.2-2_amd64.deb ...\n",
            "Unpacking libamd2:amd64 (1:5.1.2-2) ...\n",
            "Selecting previously unselected package libcolamd2:amd64.\n",
            "Preparing to unpack .../libcolamd2_1%3a5.1.2-2_amd64.deb ...\n",
            "Unpacking libcolamd2:amd64 (1:5.1.2-2) ...\n",
            "Selecting previously unselected package libglpk40:amd64.\n",
            "Preparing to unpack .../libglpk40_4.65-1_amd64.deb ...\n",
            "Unpacking libglpk40:amd64 (4.65-1) ...\n",
            "Selecting previously unselected package glpk-utils.\n",
            "Preparing to unpack .../glpk-utils_4.65-1_amd64.deb ...\n",
            "Unpacking glpk-utils (4.65-1) ...\n",
            "Setting up libsuitesparseconfig5:amd64 (1:5.1.2-2) ...\n",
            "Setting up libcolamd2:amd64 (1:5.1.2-2) ...\n",
            "Setting up libamd2:amd64 (1:5.1.2-2) ...\n",
            "Setting up libglpk40:amd64 (4.65-1) ...\n",
            "Setting up glpk-utils (4.65-1) ...\n",
            "Processing triggers for libc-bin (2.27-3ubuntu1.3) ...\n",
            "/sbin/ldconfig.real: /usr/local/lib/python3.7/dist-packages/ideep4py/lib/libmkldnn.so.0 is not a symbolic link\n",
            "\n",
            "Processing triggers for man-db (2.8.3-2ubuntu0.1) ...\n"
          ]
        }
      ]
    },
    {
      "cell_type": "code",
      "metadata": {
        "id": "A-sSpTXMMJi5"
      },
      "source": [
        "model = ConcreteModel()\n",
        "model.x1 = Var(bounds=(1,2))\n",
        "model.x2 = Var(bounds=(1,2))\n",
        "model.Ep = Param(initialize=10000,mutable=True)\n",
        "model.of1= Var()\n",
        "model.of2= Var()"
      ],
      "execution_count": 36,
      "outputs": []
    },
    {
      "cell_type": "code",
      "metadata": {
        "colab": {
          "base_uri": "https://localhost:8080/"
        },
        "id": "LTuv1ss4OpBR",
        "outputId": "8561ee85-9f5f-4f20-a3df-95c365ae80a6"
      },
      "source": [
        "def rule1(model):\n",
        "  return 2*model.x1+3*model.x2 <= 10;\n",
        "model.eq1=Constraint(rule=rule1)\n",
        "\n",
        "def rule2(model):\n",
        "  return 2*model.x1 - model.x2 >= 0;\n",
        "model.eq2=Constraint(rule=rule2)\n",
        "\n",
        "def rule3(model):\n",
        "  return model.of1 == 4*model.x1 - 0.5*model.x2*model.x2;\n",
        "model.eq3=Constraint(rule=rule3)\n",
        "\n",
        "def rule4(model):\n",
        "  return model.of2 == -1*model.x1*model.x1 + 5*model.x2;\n",
        "model.eq4=Constraint(rule=rule4)\n",
        "\n",
        "model.obj1=Objective(expr=model.of1,sense=maximize)\n",
        "model.obj2=Objective(expr=model.of2,sense=maximize)\n",
        "\n",
        "model.eq5=Constraint(expr=model.of2 <= model.Ep)"
      ],
      "execution_count": 43,
      "outputs": [
        {
          "output_type": "stream",
          "name": "stdout",
          "text": [
            "WARNING: Implicitly replacing the Component attribute eq1 (type=<class\n",
            "    'pyomo.core.base.constraint.ScalarConstraint'>) on block unknown with a\n",
            "    new Component (type=<class\n",
            "    'pyomo.core.base.constraint.AbstractScalarConstraint'>). This is usually\n",
            "    indicative of a modelling error. To avoid this warning, use\n",
            "    block.del_component() and block.add_component().\n",
            "WARNING: Implicitly replacing the Component attribute eq2 (type=<class\n",
            "    'pyomo.core.base.constraint.ScalarConstraint'>) on block unknown with a\n",
            "    new Component (type=<class\n",
            "    'pyomo.core.base.constraint.AbstractScalarConstraint'>). This is usually\n",
            "    indicative of a modelling error. To avoid this warning, use\n",
            "    block.del_component() and block.add_component().\n",
            "WARNING: Implicitly replacing the Component attribute eq3 (type=<class\n",
            "    'pyomo.core.base.constraint.ScalarConstraint'>) on block unknown with a\n",
            "    new Component (type=<class\n",
            "    'pyomo.core.base.constraint.AbstractScalarConstraint'>). This is usually\n",
            "    indicative of a modelling error. To avoid this warning, use\n",
            "    block.del_component() and block.add_component().\n",
            "WARNING: Implicitly replacing the Component attribute eq4 (type=<class\n",
            "    'pyomo.core.base.constraint.ScalarConstraint'>) on block unknown with a\n",
            "    new Component (type=<class\n",
            "    'pyomo.core.base.constraint.AbstractScalarConstraint'>). This is usually\n",
            "    indicative of a modelling error. To avoid this warning, use\n",
            "    block.del_component() and block.add_component().\n",
            "WARNING: Implicitly replacing the Component attribute obj1 (type=<class\n",
            "    'pyomo.core.base.objective.ScalarObjective'>) on block unknown with a new\n",
            "    Component (type=<class 'pyomo.core.base.objective.ScalarObjective'>). This\n",
            "    is usually indicative of a modelling error. To avoid this warning, use\n",
            "    block.del_component() and block.add_component().\n",
            "WARNING: Implicitly replacing the Component attribute obj2 (type=<class\n",
            "    'pyomo.core.base.objective.ScalarObjective'>) on block unknown with a new\n",
            "    Component (type=<class 'pyomo.core.base.objective.ScalarObjective'>). This\n",
            "    is usually indicative of a modelling error. To avoid this warning, use\n",
            "    block.del_component() and block.add_component().\n",
            "WARNING: Implicitly replacing the Component attribute eq5 (type=<class\n",
            "    'pyomo.core.base.constraint.ScalarConstraint'>) on block unknown with a\n",
            "    new Component (type=<class\n",
            "    'pyomo.core.base.constraint.AbstractScalarConstraint'>). This is usually\n",
            "    indicative of a modelling error. To avoid this warning, use\n",
            "    block.del_component() and block.add_component().\n"
          ]
        }
      ]
    },
    {
      "cell_type": "code",
      "metadata": {
        "id": "bGc313pCNGyX"
      },
      "source": [
        "model.obj2.deactivate()\n",
        "results = SolverFactory('ipopt', executable='/content/ipopt').solve(model)\n",
        "maxof1=value(model.obj1)\n",
        "minof2=value(model.obj2)"
      ],
      "execution_count": 44,
      "outputs": []
    },
    {
      "cell_type": "code",
      "metadata": {
        "id": "pfX12jrNQvCv"
      },
      "source": [
        "model.obj1.deactivate()\n",
        "model.obj2.activate()\n",
        "results = SolverFactory('ipopt', executable='/content/ipopt').solve(model)\n",
        "minof1=value(model.obj1)\n",
        "maxof2=value(model.obj2)"
      ],
      "execution_count": 45,
      "outputs": []
    },
    {
      "cell_type": "code",
      "metadata": {
        "colab": {
          "base_uri": "https://localhost:8080/"
        },
        "id": "32260CPcRDcX",
        "outputId": "5c5a134f-4346-4713-f558-365d9f57ab72"
      },
      "source": [
        "\n",
        "Nsteps = 21;\n",
        "for counter in range(1,Nsteps+1):\n",
        "    model.Ep = minof2 + (maxof2-minof2 )*(counter-1)/(Nsteps-1)\n",
        "    results = SolverFactory('ipopt', executable='/content/ipopt').solve(model)\n",
        "    print('c',counter)\n",
        "    print('OF1 = ',model.obj1())\n",
        "    print('OF2 = ',model.obj2())"
      ],
      "execution_count": 46,
      "outputs": [
        {
          "output_type": "stream",
          "name": "stdout",
          "text": [
            "c 1\n",
            "OF1 =  7.500000074105808\n",
            "OF2 =  0.9999998903721287\n",
            "c 2\n",
            "OF1 =  7.242153508268122\n",
            "OF2 =  1.399999906550767\n",
            "c 3\n",
            "OF1 =  7.018433012500451\n",
            "OF2 =  1.7999999205231378\n",
            "c 4\n",
            "OF1 =  6.760744334822732\n",
            "OF2 =  2.19999993448966\n",
            "c 5\n",
            "OF1 =  6.500129134421345\n",
            "OF2 =  2.5999999484547076\n",
            "c 6\n",
            "OF1 =  6.239746935155351\n",
            "OF2 =  2.9999999624192\n",
            "c 7\n",
            "OF1 =  5.9809438221743845\n",
            "OF2 =  3.399999976383432\n",
            "c 8\n",
            "OF1 =  5.7255575371757255\n",
            "OF2 =  3.799999990347521\n",
            "c 9\n",
            "OF1 =  5.474811900504045\n",
            "OF2 =  4.200000004311523\n",
            "c 10\n",
            "OF1 =  5.228867741931241\n",
            "OF2 =  4.600000018275473\n",
            "c 11\n",
            "OF1 =  4.987272800088285\n",
            "OF2 =  5.000000032239396\n",
            "c 12\n",
            "OF1 =  4.749105398740971\n",
            "OF2 =  5.400000046203317\n",
            "c 13\n",
            "OF1 =  4.513059506548495\n",
            "OF2 =  5.80000006016726\n",
            "c 14\n",
            "OF1 =  4.2774390116001735\n",
            "OF2 =  6.200000074131258\n",
            "c 15\n",
            "OF1 =  4.040017969452741\n",
            "OF2 =  6.60000008809536\n",
            "c 16\n",
            "OF1 =  3.7921047058180424\n",
            "OF2 =  7.000000102059648\n",
            "c 17\n",
            "OF1 =  3.5369366113479623\n",
            "OF2 =  7.400000116024289\n",
            "c 18\n",
            "OF1 =  3.2621907252615885\n",
            "OF2 =  7.800000129989677\n",
            "c 19\n",
            "OF1 =  2.948118596798683\n",
            "OF2 =  8.200000143957004\n",
            "c 20\n",
            "OF1 =  2.5509739005423953\n",
            "OF2 =  8.600000157932213\n",
            "c 21\n",
            "OF1 =  1.9999999860925477\n",
            "OF2 =  9.000000084414204\n"
          ]
        }
      ]
    },
    {
      "cell_type": "code",
      "metadata": {
        "id": "Ofst5_1rSFo7"
      },
      "source": [
        ""
      ],
      "execution_count": null,
      "outputs": []
    }
  ]
}