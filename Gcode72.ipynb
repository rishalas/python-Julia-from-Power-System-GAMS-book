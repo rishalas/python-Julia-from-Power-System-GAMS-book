{
 "cells": [
  {
   "cell_type": "markdown",
   "metadata": {},
   "source": [
    "# Gcode 72"
   ]
  },
  {
   "cell_type": "code",
   "execution_count": 1,
   "metadata": {},
   "outputs": [],
   "source": [
    "from pyomo.environ import *\n",
    "import matplotlib.pyplot as plt\n",
    "import numpy as np\n",
    "import random \n"
   ]
  },
  {
   "cell_type": "code",
   "execution_count": 2,
   "metadata": {},
   "outputs": [],
   "source": [
    "model = AbstractModel()\n",
    "model.gen=Set()\n",
    "model.t=Set()\n",
    "model.a=Param(model.gen)\n",
    "model.b=Param(model.gen)\n",
    "model.c=Param(model.gen)\n",
    "model.d=Param(model.gen)\n",
    "model.e=Param(model.gen)\n",
    "model.f=Param(model.gen)\n",
    "model.Pmin=Param(model.gen)\n",
    "model.Pmax=Param(model.gen)\n",
    "model.RU=Param(model.gen)\n",
    "model.RD=Param(model.gen)\n",
    "\n",
    "model.teta=Param(model.t)\n",
    "model.wind=Param(model.t)\n",
    "model.demand=Param(model.t)\n",
    "\n",
    "#Scalar\n",
    "model.soco=Param(initialize=100)\n",
    "model.socm=Param(initialize=300)\n",
    "model.etac=Param(initialize=0.95)\n",
    "model.etad=Param(initialize=0.90)\n",
    "\n",
    "#Scalar\n",
    "model.vwc=Param(initialize=50,mutable=True)"
   ]
  },
  {
   "cell_type": "code",
   "execution_count": 3,
   "metadata": {},
   "outputs": [],
   "source": [
    "#constraint\n",
    "def Pbounds(model,gen,t):\n",
    "    return(model.Pmin[gen],model.Pmax[gen])\n",
    "\n",
    "def Pwbounds(model,t):\n",
    "      return(0,model.wind[t])\n",
    "\n",
    "def Sbounds(model,t):\n",
    "    return (0.2 * model.soco, model.socm)\n",
    "\n",
    "def pcbounds(model,t):\n",
    "    return (0,0.2*model.socm)\n",
    "\n",
    "def pdbounds(model,t):\n",
    "    return (0,0.2*model.socm)\n",
    "\n",
    "model.p=Var(model.gen,model.t,bounds=Pbounds,within=Reals)\n",
    "model.pw=Var(model.t,bounds=Pwbounds,within=Reals)\n",
    "model.pwc=Var(model.t,bounds=Pwbounds,within=Reals)\n",
    "model.cost=Var(within=Reals)\n",
    "model.soc=Var(model.t,bounds=Sbounds,within=Reals)\n",
    "model.pd=Var(model.t,bounds=pdbounds,initialize=0)\n",
    "model.pc=Var(model.t,bounds=pcbounds,initialize=0)\n",
    "\n",
    "\n",
    "def rule1(model,t):\n",
    "    return sum(model.p[gen,t] for gen in model.gen) + model.pd[t] + model.pw[t] >= model.demand[t] + model.pc[t]\n",
    "model.c1 = Constraint(model.t,rule=rule1)\n",
    "\n",
    "def rule2(model,gen,t):\n",
    "    if t==1:\n",
    "        return model.p[gen,t+1] - model.p[gen,t] <= model.RU\n",
    "    else:\n",
    "        return Constraint.Skip\n",
    "model.c2 = Constraint(model.gen,model.t,rule=rule2)\n",
    "\n",
    "def rule3(model,gen,t):\n",
    "    if t==1:\n",
    "        return model.p[gen,t-1]- model.p[gen,t] <= model.RD\n",
    "    else:\n",
    "        return Constraint.Skip\n",
    "model.c3 = Constraint(model.gen,model.t,rule=rule3)\n",
    "\n",
    "def rule6(model, t):\n",
    "    if t == 't1':\n",
    "        return model.soc[t] == model.soco + model.etac * model.pc[t] - model.pd[t] / model.etad\n",
    "    else:\n",
    "        previous_t = 't' + str(int(t[1:]) - 1)\n",
    "        return model.soc[t] == model.soc[previous_t] + model.etac * model.pc[t] - model.pd[t] / model.etad\n",
    "model.c6 = Constraint(model.t, rule=rule6)\n",
    "\n",
    "# Add a constraint to ensure model.soc[t24] equals 100\n",
    "def rule_final_soc(model):\n",
    "    return model.soc['t24'] == 100\n",
    "model.c_final_soc = Constraint(rule=rule_final_soc)\n",
    "\n",
    "def rule7(model,t):\n",
    "    return model.pw[t] + model.pwc[t] == model.wind[t]\n",
    "model.c7 = Constraint(model.t,rule=rule7)\n",
    "\n",
    "def ruleTC(model):\n",
    "    return model.cost == sum((model.a[gen]*model.p[gen,t]*model.p[gen,t] + \n",
    "                              model.b[gen]*model.p[gen,t]+model.c[gen]) for gen in model.gen for t in model.t)  + sum(model.vwc + model.pwc[t] for t in model.t)\n",
    "model.c4 = Constraint(rule=ruleTC)\n",
    "\n"
   ]
  },
  {
   "cell_type": "code",
   "execution_count": 4,
   "metadata": {},
   "outputs": [],
   "source": [
    "model.obj=Objective(expr=model.cost,sense=minimize)"
   ]
  },
  {
   "cell_type": "code",
   "execution_count": 5,
   "metadata": {},
   "outputs": [],
   "source": [
    "instance= model.create_instance(\"code44.dat\")"
   ]
  },
  {
   "cell_type": "code",
   "execution_count": 6,
   "metadata": {},
   "outputs": [
    {
     "name": "stdout",
     "output_type": "stream",
     "text": [
      "# ==========================================================\n",
      "# = Solver Results                                         =\n",
      "# ==========================================================\n",
      "# ----------------------------------------------------------\n",
      "#   Problem Information\n",
      "# ----------------------------------------------------------\n",
      "Problem: \n",
      "- Lower bound: -inf\n",
      "  Upper bound: inf\n",
      "  Number of objectives: 1\n",
      "  Number of constraints: 74\n",
      "  Number of variables: 217\n",
      "  Sense: unknown\n",
      "# ----------------------------------------------------------\n",
      "#   Solver Information\n",
      "# ----------------------------------------------------------\n",
      "Solver: \n",
      "- Status: ok\n",
      "  Message: Ipopt 3.11.1\\x3a Optimal Solution Found\n",
      "  Termination condition: optimal\n",
      "  Id: 0\n",
      "  Error rc: 0\n",
      "  Time: 0.10992121696472168\n",
      "# ----------------------------------------------------------\n",
      "#   Solution Information\n",
      "# ----------------------------------------------------------\n",
      "Solution: \n",
      "- number of solutions: 0\n",
      "  number of solutions displayed: 0\n"
     ]
    }
   ],
   "source": [
    "results = SolverFactory('ipopt',executable='C:\\\\ipopt\\\\bin\\\\ipopt.exe').solve(instance).write()"
   ]
  },
  {
   "cell_type": "code",
   "execution_count": 7,
   "metadata": {},
   "outputs": [
    {
     "name": "stdout",
     "output_type": "stream",
     "text": [
      "cost : Size=1, Index=None\n",
      "    Key  : Lower : Value              : Upper : Fixed : Stale : Domain\n",
      "    None :  None : 223934.27016268106 :  None : False : False :  Reals\n"
     ]
    }
   ],
   "source": [
    "instance.cost.pprint()"
   ]
  },
  {
   "cell_type": "code",
   "execution_count": 8,
   "metadata": {},
   "outputs": [
    {
     "name": "stdout",
     "output_type": "stream",
     "text": [
      "p : Size=96, Index=p_index\n",
      "    Key           : Lower : Value              : Upper : Fixed : Stale : Domain\n",
      "     ('G1', 't1') :    28 : 144.48509798932136 :   200 : False : False :  Reals\n",
      "    ('G1', 't10') :    28 :  132.4132373162609 :   200 : False : False :  Reals\n",
      "    ('G1', 't11') :    28 : 106.87507162110346 :   200 : False : False :  Reals\n",
      "    ('G1', 't12') :    28 : 119.01864766214885 :   200 : False : False :  Reals\n",
      "    ('G1', 't13') :    28 :  88.54815232052584 :   200 : False : False :  Reals\n",
      "    ('G1', 't14') :    28 :  79.52812110301176 :   200 : False : False :  Reals\n",
      "    ('G1', 't15') :    28 :  68.88257151914735 :   200 : False : False :  Reals\n",
      "    ('G1', 't16') :    28 :  73.75912558462215 :   200 : False : False :  Reals\n",
      "    ('G1', 't17') :    28 :  80.02449425845549 :   200 : False : False :  Reals\n",
      "    ('G1', 't18') :    28 : 108.30935202543452 :   200 : False : False :  Reals\n",
      "    ('G1', 't19') :    28 : 104.05398938574828 :   200 : False : False :  Reals\n",
      "     ('G1', 't2') :    28 :  144.4850979895482 :   200 : False : False :  Reals\n",
      "    ('G1', 't20') :    28 : 111.91099022499381 :   200 : False : False :  Reals\n",
      "    ('G1', 't21') :    28 :  99.70366883677076 :   200 : False : False :  Reals\n",
      "    ('G1', 't22') :    28 :  90.52427285369335 :   200 : False : False :  Reals\n",
      "    ('G1', 't23') :    28 :  66.36796723834337 :   200 : False : False :  Reals\n",
      "    ('G1', 't24') :    28 : 46.220937868132445 :   200 : False : False :  Reals\n",
      "     ('G1', 't3') :    28 : 144.48509798705922 :   200 : False : False :  Reals\n",
      "     ('G1', 't4') :    28 : 120.00670845615726 :   200 : False : False :  Reals\n",
      "     ('G1', 't5') :    28 :  104.2716512462022 :   200 : False : False :  Reals\n",
      "     ('G1', 't6') :    28 :  95.01835251250556 :   200 : False : False :  Reals\n",
      "     ('G1', 't7') :    28 : 104.27165123931525 :   200 : False : False :  Reals\n",
      "     ('G1', 't8') :    28 : 121.15413240659348 :   200 : False : False :  Reals\n",
      "     ('G1', 't9') :    28 : 134.31764101848785 :   200 : False : False :  Reals\n",
      "     ('G2', 't1') :    20 :  96.78359858082477 :   290 : False : False :  Reals\n",
      "    ('G2', 't10') :    20 :  88.26228516452933 :   290 : False : False :  Reals\n",
      "    ('G2', 't11') :    20 :  70.23534467381896 :   290 : False : False :  Reals\n",
      "    ('G2', 't12') :    20 :  78.80728070279376 :   290 : False : False :  Reals\n",
      "    ('G2', 't13') :    20 : 57.298695755775626 :   290 : False : False :  Reals\n",
      "    ('G2', 't14') :    20 :  50.93161489636918 :   290 : False : False :  Reals\n",
      "    ('G2', 't15') :    20 :   43.4171093077942 :   290 : False : False :  Reals\n",
      "    ('G2', 't16') :    20 :  46.85938276575704 :   290 : False : False :  Reals\n",
      "    ('G2', 't17') :    20 :  51.28199594726955 :   290 : False : False :  Reals\n",
      "    ('G2', 't18') :    20 :  71.24777790040544 :   290 : False : False :  Reals\n",
      "    ('G2', 't19') :    20 :  68.24399250768647 :   290 : False : False :  Reals\n",
      "     ('G2', 't2') :    20 :  96.78359858098489 :   290 : False : False :  Reals\n",
      "    ('G2', 't20') :    20 :  73.79011074715322 :   290 : False : False :  Reals\n",
      "    ('G2', 't21') :    20 :   65.1731780025275 :   290 : False : False :  Reals\n",
      "    ('G2', 't22') :    20 : 58.693604367420996 :   290 : False : False :  Reals\n",
      "    ('G2', 't23') :    20 :  41.64209452135747 :   290 : False : False :  Reals\n",
      "    ('G2', 't24') :    20 : 27.420662025172646 :   290 : False : False :  Reals\n",
      "     ('G2', 't3') :    20 :  96.78359857922796 :   290 : False : False :  Reals\n",
      "     ('G2', 't4') :    20 :  79.50473538091777 :   290 : False : False :  Reals\n",
      "     ('G2', 't5') :    20 :  68.39763617388915 :   290 : False : False :  Reals\n",
      "     ('G2', 't6') :    20 :  61.86589589128434 :   290 : False : False :  Reals\n",
      "     ('G2', 't7') :    20 :  68.39763616902778 :   290 : False : False :  Reals\n",
      "     ('G2', 't8') :    20 :  80.31468169887326 :   290 : False : False :  Reals\n",
      "     ('G2', 't9') :    20 :  89.60657013080932 :   290 : False : False :  Reals\n",
      "     ('G3', 't1') :    30 : 113.08807839152777 :   190 : False : False :  Reals\n",
      "    ('G3', 't10') :    30 : 103.43058985306958 :   190 : False : False :  Reals\n",
      "    ('G3', 't11') :    30 :   83.0000572969461 :   190 : False : False :  Reals\n",
      "    ('G3', 't12') :    30 :  92.71491812977777 :   190 : False : False :  Reals\n",
      "    ('G3', 't13') :    30 :   68.3385218565069 :   190 : False : False :  Reals\n",
      "    ('G3', 't14') :    30 :  61.12249688252022 :   190 : False : False :  Reals\n",
      "    ('G3', 't15') :    30 : 52.606057215485976 :   190 : False : False :  Reals\n",
      "    ('G3', 't16') :    30 :  56.50730046783388 :   190 : False : False :  Reals\n",
      "    ('G3', 't17') :    30 :  61.51959540687344 :   190 : False : False :  Reals\n",
      "    ('G3', 't18') :    30 :  84.14748162041006 :   190 : False : False :  Reals\n",
      "    ('G3', 't19') :    30 :  80.74319150866401 :   190 : False : False :  Reals\n",
      "     ('G3', 't2') :    30 : 113.08807839170926 :   190 : False : False :  Reals\n",
      "    ('G3', 't20') :    30 :  87.02879218005567 :   190 : False : False :  Reals\n",
      "    ('G3', 't21') :    30 :  77.26293506948606 :   190 : False : False :  Reals\n",
      "    ('G3', 't22') :    30 :  69.91941828303703 :   190 : False : False :  Reals\n",
      "    ('G3', 't23') :    30 :  50.59437379086516 :   190 : False : False :  Reals\n",
      "    ('G3', 't24') :    30 :  34.47675029591401 :   190 : False : False :  Reals\n",
      "     ('G3', 't3') :    30 : 113.08807838971805 :   190 : False : False :  Reals\n",
      "     ('G3', 't4') :    30 :  93.50536676498439 :   190 : False : False :  Reals\n",
      "     ('G3', 't5') :    30 :  80.91732099702695 :   190 : False : False :  Reals\n",
      "     ('G3', 't6') :    30 :  73.51468201007961 :   190 : False : False :  Reals\n",
      "     ('G3', 't7') :    30 :  80.91732099151741 :   190 : False : False :  Reals\n",
      "     ('G3', 't8') :    30 :  94.42330592533331 :   190 : False : False :  Reals\n",
      "     ('G3', 't9') :    30 : 104.95411281485212 :   190 : False : False :  Reals\n",
      "     ('G4', 't1') :    20 :  87.54321978285085 :   260 : False : False :  Reals\n",
      "    ('G4', 't10') :    20 :  79.91888672616734 :   260 : False : False :  Reals\n",
      "    ('G4', 't11') :    20 :  63.78951891869586 :   260 : False : False :  Reals\n",
      "    ('G4', 't12') :    20 :  71.45914589198564 :   260 : False : False :  Reals\n",
      "    ('G4', 't13') :    20 :  52.21462251835007 :   260 : False : False :  Reals\n",
      "    ('G4', 't14') :    20 : 46.517760696783554 :   260 : False : False :  Reals\n",
      "    ('G4', 't15') :    20 : 39.794255696495775 :   260 : False : False :  Reals\n",
      "    ('G4', 't16') :    20 : 42.874184579927416 :   260 : False : False :  Reals\n",
      "    ('G4', 't17') :    20 : 46.831259531799155 :   260 : False : False :  Reals\n",
      "    ('G4', 't18') :    20 :   64.6953802266938 :   260 : False : False :  Reals\n",
      "    ('G4', 't19') :    20 :  62.00778277005198 :   260 : False : False :  Reals\n",
      "     ('G4', 't2') :    20 :  87.54321978299411 :   260 : False : False :  Reals\n",
      "    ('G4', 't20') :    20 :  66.97009908957227 :   260 : False : False :  Reals\n",
      "    ('G4', 't21') :    20 :  59.26021189701676 :   260 : False : False :  Reals\n",
      "    ('G4', 't22') :    20 :   53.4626986445578 :   260 : False : False :  Reals\n",
      "    ('G4', 't23') :    20 :  38.20608457179522 :   260 : False : False :  Reals\n",
      "    ('G4', 't24') :    20 :  25.48164497020265 :   260 : False : False :  Reals\n",
      "     ('G4', 't3') :    20 :  87.54321978142214 :   260 : False : False :  Reals\n",
      "     ('G4', 't4') :    20 :   72.0831842882016 :   260 : False : False :  Reals\n",
      "     ('G4', 't5') :    20 :  62.14525341875958 :   260 : False : False :  Reals\n",
      "     ('G4', 't6') :    20 :  56.30106474485403 :   260 : False : False :  Reals\n",
      "     ('G4', 't7') :    20 : 62.145253414409936 :   260 : False : False :  Reals\n",
      "     ('G4', 't8') :    20 :  72.80787309900361 :   260 : False : False :  Reals\n",
      "     ('G4', 't9') :    20 :  81.12166801178594 :   260 : False : False :  Reals\n"
     ]
    }
   ],
   "source": [
    "instance.p.pprint()"
   ]
  },
  {
   "cell_type": "code",
   "execution_count": 9,
   "metadata": {},
   "outputs": [
    {
     "name": "stdout",
     "output_type": "stream",
     "text": [
      "pw : Size=24, Index=t\n",
      "    Key : Lower : Value : Upper : Fixed : Stale : Domain\n",
      "     t1 :     0 :  44.1 :  44.1 : False : False :  Reals\n",
      "    t10 :     0 : 306.9 : 306.9 : False : False :  Reals\n",
      "    t11 :     0 : 424.1 : 424.1 : False : False :  Reals\n",
      "    t12 :     0 : 398.0 :   398 : False : False :  Reals\n",
      "    t13 :     0 : 487.6 : 487.6 : False : False :  Reals\n",
      "    t14 :     0 : 521.9 : 521.9 : False : False :  Reals\n",
      "    t15 :     0 : 541.3 : 541.3 : False : False :  Reals\n",
      "    t16 :     0 : 560.0 :   560 : False : False :  Reals\n",
      "    t17 :     0 : 486.8 : 486.8 : False : False :  Reals\n",
      "    t18 :     0 : 372.6 : 372.6 : False : False :  Reals\n",
      "    t19 :     0 : 367.4 : 367.4 : False : False :  Reals\n",
      "     t2 :     0 :  48.5 :  48.5 : False : False :  Reals\n",
      "    t20 :     0 : 314.3 : 314.3 : False : False :  Reals\n",
      "    t21 :     0 : 316.6 : 316.6 : False : False :  Reals\n",
      "    t22 :     0 : 311.4 : 311.4 : False : False :  Reals\n",
      "    t23 :     0 : 405.4 : 405.4 : False : False :  Reals\n",
      "    t24 :     0 : 470.4 : 470.4 : False : False :  Reals\n",
      "     t3 :     0 :  65.7 :  65.7 : False : False :  Reals\n",
      "     t4 :     0 : 144.9 : 144.9 : False : False :  Reals\n",
      "     t5 :     0 : 202.3 : 202.3 : False : False :  Reals\n",
      "     t6 :     0 : 317.3 : 317.3 : False : False :  Reals\n",
      "     t7 :     0 : 364.4 : 364.4 : False : False :  Reals\n",
      "     t8 :     0 : 317.3 : 317.3 : False : False :  Reals\n",
      "     t9 :     0 : 271.0 :   271 : False : False :  Reals\n"
     ]
    }
   ],
   "source": [
    "instance.pw.pprint()"
   ]
  },
  {
   "cell_type": "code",
   "execution_count": 10,
   "metadata": {},
   "outputs": [
    {
     "name": "stdout",
     "output_type": "stream",
     "text": [
      "pwc : Size=24, Index=t\n",
      "    Key : Lower : Value : Upper : Fixed : Stale : Domain\n",
      "     t1 :     0 :   0.0 :  44.1 : False : False :  Reals\n",
      "    t10 :     0 :   0.0 : 306.9 : False : False :  Reals\n",
      "    t11 :     0 :   0.0 : 424.1 : False : False :  Reals\n",
      "    t12 :     0 :   0.0 :   398 : False : False :  Reals\n",
      "    t13 :     0 :   0.0 : 487.6 : False : False :  Reals\n",
      "    t14 :     0 :   0.0 : 521.9 : False : False :  Reals\n",
      "    t15 :     0 :   0.0 : 541.3 : False : False :  Reals\n",
      "    t16 :     0 :   0.0 :   560 : False : False :  Reals\n",
      "    t17 :     0 :   0.0 : 486.8 : False : False :  Reals\n",
      "    t18 :     0 :   0.0 : 372.6 : False : False :  Reals\n",
      "    t19 :     0 :   0.0 : 367.4 : False : False :  Reals\n",
      "     t2 :     0 :   0.0 :  48.5 : False : False :  Reals\n",
      "    t20 :     0 :   0.0 : 314.3 : False : False :  Reals\n",
      "    t21 :     0 :   0.0 : 316.6 : False : False :  Reals\n",
      "    t22 :     0 :   0.0 : 311.4 : False : False :  Reals\n",
      "    t23 :     0 :   0.0 : 405.4 : False : False :  Reals\n",
      "    t24 :     0 :   0.0 : 470.4 : False : False :  Reals\n",
      "     t3 :     0 :   0.0 :  65.7 : False : False :  Reals\n",
      "     t4 :     0 :   0.0 : 144.9 : False : False :  Reals\n",
      "     t5 :     0 :   0.0 : 202.3 : False : False :  Reals\n",
      "     t6 :     0 :   0.0 : 317.3 : False : False :  Reals\n",
      "     t7 :     0 :   0.0 : 364.4 : False : False :  Reals\n",
      "     t8 :     0 :   0.0 : 317.3 : False : False :  Reals\n",
      "     t9 :     0 :   0.0 :   271 : False : False :  Reals\n"
     ]
    }
   ],
   "source": [
    "instance.pwc.pprint()"
   ]
  },
  {
   "cell_type": "code",
   "execution_count": 11,
   "metadata": {},
   "outputs": [
    {
     "name": "stdout",
     "output_type": "stream",
     "text": [
      "soc : Size=24, Index=t\n",
      "    Key : Lower : Value              : Upper : Fixed : Stale : Domain\n",
      "     t1 :  20.0 :  73.33333317313725 :   300 : False : False :  Reals\n",
      "    t10 :  20.0 :               20.0 :   300 : False : False :  Reals\n",
      "    t11 :  20.0 :               20.0 :   300 : False : False :  Reals\n",
      "    t12 :  20.0 :               20.0 :   300 : False : False :  Reals\n",
      "    t13 :  20.0 :               20.0 :   300 : False : False :  Reals\n",
      "    t14 :  20.0 :   77.0000003639873 :   300 : False : False :  Reals\n",
      "    t15 :  20.0 :  134.0000009438783 :   300 : False : False :  Reals\n",
      "    t16 :  20.0 :  191.0000015230233 :   300 : False : False :  Reals\n",
      "    t17 :  20.0 : 202.83448620410428 :   300 : False : False :  Reals\n",
      "    t18 :  20.0 : 136.16781886434794 :   300 : False : False :  Reals\n",
      "    t19 :  20.0 :  86.66666714591858 :   300 : False : False :  Reals\n",
      "     t2 :  20.0 :  29.33333323595483 :   300 : False : False :  Reals\n",
      "    t20 :  20.0 :               20.0 :   300 : False : False :  Reals\n",
      "    t21 :  20.0 :               20.0 :   300 : False : False :  Reals\n",
      "    t22 :  20.0 :               20.0 :   300 : False : False :  Reals\n",
      "    t23 :  20.0 :  42.99999941965837 :   300 : False : False :  Reals\n",
      "    t24 :  20.0 :              100.0 :   300 : False : False :  Reals\n",
      "     t3 :  20.0 :               20.0 :   300 : False : False :  Reals\n",
      "     t4 :  20.0 :               20.0 :   300 : False : False :  Reals\n",
      "     t5 :  20.0 :  22.88027345037346 :   300 : False : False :  Reals\n",
      "     t6 :  20.0 :  79.88027403010236 :   300 : False : False :  Reals\n",
      "     t7 :  20.0 : 112.30554890159272 :   300 : False : False :  Reals\n",
      "     t8 :  20.0 : 112.30554890276098 :   300 : False : False :  Reals\n",
      "     t9 :  20.0 :  45.63888156634965 :   300 : False : False :  Reals\n"
     ]
    }
   ],
   "source": [
    "instance.soc.pprint()"
   ]
  },
  {
   "cell_type": "code",
   "execution_count": 12,
   "metadata": {},
   "outputs": [
    {
     "name": "stdout",
     "output_type": "stream",
     "text": [
      "pd : Size=24, Index=t\n",
      "    Key : Lower : Value              : Upper : Fixed : Stale : Domain\n",
      "     t1 :     0 :  24.00000013592513 :  60.0 : False : False :  Reals\n",
      "    t10 :     0 : 23.074993580450023 :  60.0 : False : False :  Reals\n",
      "    t11 :     0 :                0.0 :  60.0 : False : False :  Reals\n",
      "    t12 :     0 :                0.0 :  60.0 : False : False :  Reals\n",
      "    t13 :     0 :                0.0 :  60.0 : False : False :  Reals\n",
      "    t14 :     0 :                0.0 :  60.0 : False : False :  Reals\n",
      "    t15 :     0 :                0.0 :  60.0 : False : False :  Reals\n",
      "    t16 :     0 :                0.0 :  60.0 : False : False :  Reals\n",
      "    t17 :     0 :                0.0 :  60.0 : False : False :  Reals\n",
      "    t18 :     0 :               60.0 :  60.0 : False : False :  Reals\n",
      "    t19 :     0 : 44.551036538407935 :  60.0 : False : False :  Reals\n",
      "     t2 :     0 : 39.599999935212836 :  60.0 : False : False :  Reals\n",
      "    t20 :     0 :               60.0 :  60.0 : False : False :  Reals\n",
      "    t21 :     0 :                0.0 :  60.0 : False : False :  Reals\n",
      "    t22 :     0 :                0.0 :  60.0 : False : False :  Reals\n",
      "    t23 :     0 :                0.0 :  60.0 : False : False :  Reals\n",
      "    t24 :     0 :                0.0 :  60.0 : False : False :  Reals\n",
      "     t3 :     0 :   8.40000008302102 :  60.0 : False : False :  Reals\n",
      "     t4 :     0 :                0.0 :  60.0 : False : False :  Reals\n",
      "     t5 :     0 :                0.0 :  60.0 : False : False :  Reals\n",
      "     t6 :     0 :                0.0 :  60.0 : False : False :  Reals\n",
      "     t7 :     0 :                0.0 :  60.0 : False : False :  Reals\n",
      "     t8 :     0 :                0.0 :  60.0 : False : False :  Reals\n",
      "     t9 :     0 :               60.0 :  60.0 : False : False :  Reals\n"
     ]
    }
   ],
   "source": [
    "instance.pd.pprint()"
   ]
  },
  {
   "cell_type": "code",
   "execution_count": 13,
   "metadata": {},
   "outputs": [
    {
     "name": "stdout",
     "output_type": "stream",
     "text": [
      "pc : Size=24, Index=t\n",
      "    Key : Lower : Value              : Upper : Fixed : Stale : Domain\n",
      "     t1 :     0 :                0.0 :  60.0 : False : False :  Reals\n",
      "    t10 :     0 :                0.0 :  60.0 : False : False :  Reals\n",
      "    t11 :     0 :                0.0 :  60.0 : False : False :  Reals\n",
      "    t12 :     0 :                0.0 :  60.0 : False : False :  Reals\n",
      "    t13 :     0 :                0.0 :  60.0 : False : False :  Reals\n",
      "    t14 :     0 :               60.0 :  60.0 : False : False :  Reals\n",
      "    t15 :     0 :               60.0 :  60.0 : False : False :  Reals\n",
      "    t16 :     0 :               60.0 :  60.0 : False : False :  Reals\n",
      "    t17 :     0 : 12.457352284687058 :  60.0 : False : False :  Reals\n",
      "    t18 :     0 :                0.0 :  60.0 : False : False :  Reals\n",
      "    t19 :     0 :                0.0 :  60.0 : False : False :  Reals\n",
      "     t2 :     0 :                0.0 :  60.0 : False : False :  Reals\n",
      "    t20 :     0 :                0.0 :  60.0 : False : False :  Reals\n",
      "    t21 :     0 :                0.0 :  60.0 : False : False :  Reals\n",
      "    t22 :     0 :                0.0 :  60.0 : False : False :  Reals\n",
      "    t23 :     0 : 24.210525902682022 :  60.0 : False : False :  Reals\n",
      "    t24 :     0 :               60.0 :  60.0 : False : False :  Reals\n",
      "     t3 :     0 :                0.0 :  60.0 : False : False :  Reals\n",
      "     t4 :     0 :                0.0 :  60.0 : False : False :  Reals\n",
      "     t5 :     0 :   3.03186698612545 :  60.0 : False : False :  Reals\n",
      "     t6 :     0 :               60.0 :  60.0 : False : False :  Reals\n",
      "     t7 :     0 :  34.13186827451737 :  60.0 : False : False :  Reals\n",
      "     t8 :     0 :                0.0 :  60.0 : False : False :  Reals\n",
      "     t9 :     0 :                0.0 :  60.0 : False : False :  Reals\n"
     ]
    }
   ],
   "source": [
    "instance.pc.pprint()"
   ]
  }
 ],
 "metadata": {
  "kernelspec": {
   "display_name": "Python 3",
   "language": "python",
   "name": "python3"
  },
  "language_info": {
   "codemirror_mode": {
    "name": "ipython",
    "version": 3
   },
   "file_extension": ".py",
   "mimetype": "text/x-python",
   "name": "python",
   "nbconvert_exporter": "python",
   "pygments_lexer": "ipython3",
   "version": "3.8.5"
  }
 },
 "nbformat": 4,
 "nbformat_minor": 4
}
