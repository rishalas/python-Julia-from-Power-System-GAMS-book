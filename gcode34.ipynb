{
 "cells": [
  {
   "cell_type": "markdown",
   "id": "7cf2f512-e4de-42f5-906e-0a5eb29213f1",
   "metadata": {},
   "source": [
    "# Gcode 34"
   ]
  },
  {
   "cell_type": "code",
   "execution_count": 2,
   "id": "37a3d1b2-82b4-48bf-935f-7c14b225ee19",
   "metadata": {},
   "outputs": [],
   "source": [
    "from pyomo.environ import *\n",
    "import matplotlib.pyplot as plt\n",
    "import numpy as np\n",
    "import random \n"
   ]
  },
  {
   "cell_type": "code",
   "execution_count": 3,
   "id": "b99fc278-319d-4661-863d-b0e2d624310c",
   "metadata": {},
   "outputs": [],
   "source": [
    "model = AbstractModel()\n",
    "model.gen=Set()\n",
    "model.a=Param(model.gen)\n",
    "model.b=Param(model.gen)\n",
    "model.c=Param(model.gen)\n",
    "model.d=Param(model.gen)\n",
    "model.e=Param(model.gen)\n",
    "model.f=Param(model.gen)\n",
    "model.Pmin=Param(model.gen)\n",
    "model.Pmax=Param(model.gen)\n",
    "model.load_val=Param(initialize=400,mutable=True)\n",
    "model.ep=Param(initialize=0,within=Reals,mutable=True)\n",
    "#Scalar\n",
    "\n",
    "Eprice  = 0.1"
   ]
  },
  {
   "cell_type": "code",
   "execution_count": 4,
   "id": "fe9066e0-cd22-4b64-a52e-6f43291a033f",
   "metadata": {},
   "outputs": [],
   "source": [
    "#constraint\n",
    "def Pbounds(model,gen):\n",
    "  return (model.Pmin[gen],model.Pmax[gen])\n",
    "\n",
    "model.p=Var(model.gen,bounds=Pbounds,within=Reals)\n",
    "model.TE=Var(within=Reals)\n",
    "model.TC=Var(within=Reals)\n",
    "\n",
    "def rule1(model,gen):\n",
    "  return sum(model.p[gen] for gen in model.gen) >= model.load_val\n",
    "model.c1 = Constraint(rule=rule1)\n",
    "\n",
    "def ruleTC(model,gen):\n",
    "  return model.TC == sum((model.a[gen]*model.p[gen]*model.p[gen] + \n",
    "                              model.b[gen]*model.p[gen]+model.c[gen]) for gen in model.gen) \n",
    "model.c2 = Constraint(rule=ruleTC)\n",
    "\n",
    "def ruleTE(model,gen):\n",
    "  return model.TE == sum((model.d[gen]*model.p[gen]*model.p[gen] + \n",
    "                              model.e[gen]*model.p[gen]+model.f[gen]) for gen in model.gen) \n",
    "model.c3 = Constraint(rule=ruleTE)\n"
   ]
  },
  {
   "cell_type": "code",
   "execution_count": 5,
   "id": "55c7f7fa-58d0-4c6c-b23d-665f6c85a314",
   "metadata": {},
   "outputs": [],
   "source": [
    "model.obj1=Objective(expr=model.TC,sense=minimize)\n",
    "model.obj2=Objective(expr=model.TE,sense=minimize)\n"
   ]
  },
  {
   "cell_type": "code",
   "execution_count": 6,
   "id": "9ec9f822-f8eb-44df-98a2-92502a19c1b7",
   "metadata": {},
   "outputs": [],
   "source": [
    "instance= model.create_instance(\"gcode33.dat\")\n"
   ]
  },
  {
   "cell_type": "code",
   "execution_count": 14,
   "id": "7c45eb35-70b1-4b49-9e5b-90fc34f4d4c1",
   "metadata": {},
   "outputs": [
    {
     "name": "stdout",
     "output_type": "stream",
     "text": [
      "# ==========================================================\n",
      "# = Solver Results                                         =\n",
      "# ==========================================================\n",
      "# ----------------------------------------------------------\n",
      "#   Problem Information\n",
      "# ----------------------------------------------------------\n",
      "Problem: \n",
      "- Lower bound: -inf\n",
      "  Upper bound: inf\n",
      "  Number of objectives: 1\n",
      "  Number of constraints: 4\n",
      "  Number of variables: 7\n",
      "  Sense: unknown\n",
      "# ----------------------------------------------------------\n",
      "#   Solver Information\n",
      "# ----------------------------------------------------------\n",
      "Solver: \n",
      "- Status: ok\n",
      "  Message: Ipopt 3.14.14\\x3a Optimal Solution Found\n",
      "  Termination condition: optimal\n",
      "  Id: 0\n",
      "  Error rc: 0\n",
      "  Time: 0.047846317291259766\n",
      "# ----------------------------------------------------------\n",
      "#   Solution Information\n",
      "# ----------------------------------------------------------\n",
      "Solution: \n",
      "- number of solutions: 0\n",
      "  number of solutions displayed: 0\n"
     ]
    }
   ],
   "source": [
    "instance.obj2.deactivate()\n",
    "results = SolverFactory('ipopt').solve(instance).write()\n",
    "minof1=instance.obj1()\n",
    "maxof2=instance.obj2()\n"
   ]
  },
  {
   "cell_type": "code",
   "execution_count": 10,
   "id": "e0c5491a-f30c-4b2a-b98d-17efda42c6ad",
   "metadata": {},
   "outputs": [
    {
     "name": "stdout",
     "output_type": "stream",
     "text": [
      "# ==========================================================\n",
      "# = Solver Results                                         =\n",
      "# ==========================================================\n",
      "# ----------------------------------------------------------\n",
      "#   Problem Information\n",
      "# ----------------------------------------------------------\n",
      "Problem: \n",
      "- Lower bound: -inf\n",
      "  Upper bound: inf\n",
      "  Number of objectives: 1\n",
      "  Number of constraints: 4\n",
      "  Number of variables: 7\n",
      "  Sense: unknown\n",
      "# ----------------------------------------------------------\n",
      "#   Solver Information\n",
      "# ----------------------------------------------------------\n",
      "Solver: \n",
      "- Status: ok\n",
      "  Message: Ipopt 3.14.14\\x3a Optimal Solution Found\n",
      "  Termination condition: optimal\n",
      "  Id: 0\n",
      "  Error rc: 0\n",
      "  Time: 0.09089517593383789\n",
      "# ----------------------------------------------------------\n",
      "#   Solution Information\n",
      "# ----------------------------------------------------------\n",
      "Solution: \n",
      "- number of solutions: 0\n",
      "  number of solutions displayed: 0\n"
     ]
    }
   ],
   "source": [
    "instance.obj1.deactivate()\n",
    "instance.obj2.activate()\n",
    "results = SolverFactory('ipopt').solve(instance).write()\n",
    "maxof1=instance.obj1()\n",
    "minof2=instance.obj2()"
   ]
  },
  {
   "cell_type": "code",
   "execution_count": 16,
   "id": "bb56e6eb-6763-414c-a9ee-e7c6e6b0bc07",
   "metadata": {},
   "outputs": [
    {
     "name": "stdout",
     "output_type": "stream",
     "text": [
      "WARNING: Implicitly replacing the Component attribute eq2 (type=<class\n",
      "'pyomo.core.base.constraint.ScalarConstraint'>) on block unknown with a new\n",
      "Component (type=<class\n",
      "'pyomo.core.base.constraint.AbstractScalarConstraint'>). This is usually\n",
      "indicative of a modelling error. To avoid this warning, use\n",
      "block.del_component() and block.add_component().\n",
      "c 1\n",
      "Total Cost  =    386827.87\n",
      "Total Emission=   268726.47\n",
      "c 2\n",
      "Total Cost  =    392073.24\n",
      "Total Emission=   273272.84\n",
      "c 3\n",
      "Total Cost  =    398146.94\n",
      "Total Emission=   278552.08\n",
      "c 4\n",
      "Total Cost  =    405151.93\n",
      "Total Emission=   284658.17\n",
      "c 5\n",
      "Total Cost  =    413173.97\n",
      "Total Emission=   291669.94\n",
      "c 6\n",
      "Total Cost  =    422267.68\n",
      "Total Emission=   299637.95\n",
      "c 7\n",
      "Total Cost  =    432445.74\n",
      "Total Emission=   308573.65\n",
      "c 8\n",
      "Total Cost  =    443675.47\n",
      "Total Emission=   318445.08\n",
      "c 9\n",
      "Total Cost  =    455884.91\n",
      "Total Emission=   329181.13\n",
      "c 10\n",
      "Total Cost  =    468976.43\n",
      "Total Emission=   340683.06\n",
      "c 11\n",
      "Total Cost  =    482843.23\n",
      "Total Emission=   352838.97\n"
     ]
    }
   ],
   "source": [
    "# for counter\n",
    "instance.eq2= Constraint(expr= instance.TE >=instance.ep)\n",
    "Nsteps = 11;\n",
    "for counter in range(1,Nsteps+1):\n",
    "    instance.ep = (maxof2-minof2)*(counter-1)/(Nsteps-1)+(minof2);\n",
    "    results = SolverFactory('ipopt').solve(instance);\n",
    "    print('c',counter)\n",
    "    print('Total Cost  =   ',round(instance.TC(),2));\n",
    "    print('Total Emission=  ',round(instance.TE(),2));\n",
    "    #instance.p.pprint()"
   ]
  },
  {
   "cell_type": "code",
   "execution_count": 12,
   "id": "c526f0df-094a-4801-a290-fe72302586c0",
   "metadata": {},
   "outputs": [
    {
     "name": "stdout",
     "output_type": "stream",
     "text": [
      "WARNING: Implicitly replacing the Component attribute eq2 (type=<class\n",
      "'pyomo.core.base.constraint.ScalarConstraint'>) on block unknown with a new\n",
      "Component (type=<class\n",
      "'pyomo.core.base.constraint.AbstractScalarConstraint'>). This is usually\n",
      "indicative of a modelling error. To avoid this warning, use\n",
      "block.del_component() and block.add_component().\n",
      "WARNING: Failed to create solver with name 'ipopt': Failed to set executable\n",
      "for solver ipopt. File with name=/content/ipopt either does not exist or it is\n",
      "not executable. To skip this validation, call set_executable with\n",
      "validate=False.\n",
      "Traceback (most recent call last):\n",
      "  File \"/opt/anaconda3/lib/python3.11/site-packages/pyomo/opt/base/solvers.py\", line 148, in __call__\n",
      "    opt = self._cls[_name](**kwds)\n",
      "          ^^^^^^^^^^^^^^^^^^^^^^^^\n",
      "  File \"/opt/anaconda3/lib/python3.11/site-packages/pyomo/solvers/plugins/solvers/IPOPT.py\", line 40, in __init__\n",
      "    super(IPOPT, self).__init__(**kwds)\n",
      "  File \"/opt/anaconda3/lib/python3.11/site-packages/pyomo/opt/solver/shellcmd.py\", line 65, in __init__\n",
      "    self.set_executable(name=executable, validate=validate)\n",
      "  File \"/opt/anaconda3/lib/python3.11/site-packages/pyomo/opt/solver/shellcmd.py\", line 114, in set_executable\n",
      "    raise ValueError(\n",
      "ValueError: Failed to set executable for solver ipopt. File with name=/content/ipopt either does not exist or it is not executable. To skip this validation, call set_executable with validate=False.\n"
     ]
    },
    {
     "ename": "RuntimeError",
     "evalue": "Attempting to use an unavailable solver.\n\nThe SolverFactory was unable to create the solver \"ipopt\"\nand returned an UnknownSolver object.  This error is raised at the point\nwhere the UnknownSolver object was used as if it were valid (by calling\nmethod \"solve\").\n\nThe original solver was created with the following parameters:\n\texecutable: /content/ipopt\n\ttype: ipopt\n\t_args: ()\n\toptions: {}",
     "output_type": "error",
     "traceback": [
      "\u001b[0;31m---------------------------------------------------------------------------\u001b[0m",
      "\u001b[0;31mRuntimeError\u001b[0m                              Traceback (most recent call last)",
      "Cell \u001b[0;32mIn[12], line 6\u001b[0m\n\u001b[1;32m      4\u001b[0m \u001b[38;5;28;01mfor\u001b[39;00m counter \u001b[38;5;129;01min\u001b[39;00m \u001b[38;5;28mrange\u001b[39m(\u001b[38;5;241m1\u001b[39m,Nsteps\u001b[38;5;241m+\u001b[39m\u001b[38;5;241m1\u001b[39m):\n\u001b[1;32m      5\u001b[0m     instance\u001b[38;5;241m.\u001b[39mep \u001b[38;5;241m=\u001b[39m (maxof1\u001b[38;5;241m-\u001b[39mminof1)\u001b[38;5;241m*\u001b[39m(counter\u001b[38;5;241m-\u001b[39m\u001b[38;5;241m1\u001b[39m)\u001b[38;5;241m/\u001b[39m(Nsteps\u001b[38;5;241m-\u001b[39m\u001b[38;5;241m1\u001b[39m)\u001b[38;5;241m+\u001b[39m(minof1);\n\u001b[0;32m----> 6\u001b[0m     results \u001b[38;5;241m=\u001b[39m SolverFactory(\u001b[38;5;124m'\u001b[39m\u001b[38;5;124mipopt\u001b[39m\u001b[38;5;124m'\u001b[39m, executable\u001b[38;5;241m=\u001b[39m\u001b[38;5;124m'\u001b[39m\u001b[38;5;124m/content/ipopt\u001b[39m\u001b[38;5;124m'\u001b[39m)\u001b[38;5;241m.\u001b[39msolve(instance);\n\u001b[1;32m      7\u001b[0m     \u001b[38;5;28mprint\u001b[39m(\u001b[38;5;124m'\u001b[39m\u001b[38;5;124mc\u001b[39m\u001b[38;5;124m'\u001b[39m,counter)\n\u001b[1;32m      8\u001b[0m     \u001b[38;5;28mprint\u001b[39m(\u001b[38;5;124m'\u001b[39m\u001b[38;5;124mTotal Cost  =   \u001b[39m\u001b[38;5;124m'\u001b[39m,\u001b[38;5;28mround\u001b[39m(instance\u001b[38;5;241m.\u001b[39mTC(),\u001b[38;5;241m2\u001b[39m));\n",
      "File \u001b[0;32m/opt/anaconda3/lib/python3.11/site-packages/pyomo/opt/base/solvers.py:99\u001b[0m, in \u001b[0;36mUnknownSolver.solve\u001b[0;34m(self, *args, **kwds)\u001b[0m\n\u001b[1;32m     97\u001b[0m \u001b[38;5;28;01mdef\u001b[39;00m \u001b[38;5;21msolve\u001b[39m(\u001b[38;5;28mself\u001b[39m, \u001b[38;5;241m*\u001b[39margs, \u001b[38;5;241m*\u001b[39m\u001b[38;5;241m*\u001b[39mkwds):\n\u001b[1;32m     98\u001b[0m \u001b[38;5;250m    \u001b[39m\u001b[38;5;124;03m\"\"\"Perform optimization and return an SolverResults object.\"\"\"\u001b[39;00m\n\u001b[0;32m---> 99\u001b[0m     \u001b[38;5;28mself\u001b[39m\u001b[38;5;241m.\u001b[39m_solver_error(\u001b[38;5;124m'\u001b[39m\u001b[38;5;124msolve\u001b[39m\u001b[38;5;124m'\u001b[39m)\n",
      "File \u001b[0;32m/opt/anaconda3/lib/python3.11/site-packages/pyomo/opt/base/solvers.py:116\u001b[0m, in \u001b[0;36mUnknownSolver._solver_error\u001b[0;34m(self, method_name)\u001b[0m\n\u001b[1;32m    115\u001b[0m     \u001b[38;5;28;01mdef\u001b[39;00m \u001b[38;5;21m_solver_error\u001b[39m(\u001b[38;5;28mself\u001b[39m, method_name):\n\u001b[0;32m--> 116\u001b[0m         \u001b[38;5;28;01mraise\u001b[39;00m \u001b[38;5;167;01mRuntimeError\u001b[39;00m(\n\u001b[1;32m    117\u001b[0m \u001b[38;5;250m            \u001b[39m\u001b[38;5;124;03m\"\"\"Attempting to use an unavailable solver.\u001b[39;00m\n\u001b[1;32m    118\u001b[0m \n\u001b[1;32m    119\u001b[0m \u001b[38;5;124;03mThe SolverFactory was unable to create the solver \"%s\"\u001b[39;00m\n\u001b[1;32m    120\u001b[0m \u001b[38;5;124;03mand returned an UnknownSolver object.  This error is raised at the point\u001b[39;00m\n\u001b[1;32m    121\u001b[0m \u001b[38;5;124;03mwhere the UnknownSolver object was used as if it were valid (by calling\u001b[39;00m\n\u001b[1;32m    122\u001b[0m \u001b[38;5;124;03mmethod \"%s\").\u001b[39;00m\n\u001b[1;32m    123\u001b[0m \n\u001b[1;32m    124\u001b[0m \u001b[38;5;124;03mThe original solver was created with the following parameters:\u001b[39;00m\n\u001b[1;32m    125\u001b[0m \u001b[38;5;124;03m\\t\"\"\"\u001b[39;00m\n\u001b[1;32m    126\u001b[0m             \u001b[38;5;241m%\u001b[39m (\u001b[38;5;28mself\u001b[39m\u001b[38;5;241m.\u001b[39mtype, method_name)\n\u001b[1;32m    127\u001b[0m             \u001b[38;5;241m+\u001b[39m \u001b[38;5;124m\"\u001b[39m\u001b[38;5;130;01m\\n\u001b[39;00m\u001b[38;5;130;01m\\t\u001b[39;00m\u001b[38;5;124m\"\u001b[39m\u001b[38;5;241m.\u001b[39mjoin(\u001b[38;5;124m\"\u001b[39m\u001b[38;5;132;01m%s\u001b[39;00m\u001b[38;5;124m: \u001b[39m\u001b[38;5;132;01m%s\u001b[39;00m\u001b[38;5;124m\"\u001b[39m \u001b[38;5;241m%\u001b[39m i \u001b[38;5;28;01mfor\u001b[39;00m i \u001b[38;5;129;01min\u001b[39;00m \u001b[38;5;28msorted\u001b[39m(\u001b[38;5;28mself\u001b[39m\u001b[38;5;241m.\u001b[39m_kwds\u001b[38;5;241m.\u001b[39mitems()))\n\u001b[1;32m    128\u001b[0m             \u001b[38;5;241m+\u001b[39m \u001b[38;5;124m\"\u001b[39m\u001b[38;5;130;01m\\n\u001b[39;00m\u001b[38;5;130;01m\\t\u001b[39;00m\u001b[38;5;124m_args: \u001b[39m\u001b[38;5;132;01m%s\u001b[39;00m\u001b[38;5;124m\"\u001b[39m \u001b[38;5;241m%\u001b[39m (\u001b[38;5;28mself\u001b[39m\u001b[38;5;241m.\u001b[39m_args,)\n\u001b[1;32m    129\u001b[0m             \u001b[38;5;241m+\u001b[39m \u001b[38;5;124m\"\u001b[39m\u001b[38;5;130;01m\\n\u001b[39;00m\u001b[38;5;130;01m\\t\u001b[39;00m\u001b[38;5;124moptions: \u001b[39m\u001b[38;5;132;01m%s\u001b[39;00m\u001b[38;5;124m\"\u001b[39m \u001b[38;5;241m%\u001b[39m (\u001b[38;5;28mself\u001b[39m\u001b[38;5;241m.\u001b[39moptions,)\n\u001b[1;32m    130\u001b[0m         )\n",
      "\u001b[0;31mRuntimeError\u001b[0m: Attempting to use an unavailable solver.\n\nThe SolverFactory was unable to create the solver \"ipopt\"\nand returned an UnknownSolver object.  This error is raised at the point\nwhere the UnknownSolver object was used as if it were valid (by calling\nmethod \"solve\").\n\nThe original solver was created with the following parameters:\n\texecutable: /content/ipopt\n\ttype: ipopt\n\t_args: ()\n\toptions: {}"
     ]
    }
   ],
   "source": [
    "# for counter\n",
    "instance.eq2= Constraint(expr= instance.TE >=instance.ep)\n",
    "Nsteps = 11;\n",
    "for counter in range(1,Nsteps+1):\n",
    "    instance.ep = (maxof1-minof1)*(counter-1)/(Nsteps-1)+(minof1);\n",
    "    results = SolverFactory('ipopt', executable='/content/ipopt').solve(instance);\n",
    "    print('c',counter)\n",
    "    print('Total Cost  =   ',round(instance.TC(),2));\n",
    "    print('Total Emission=  ',round(instance.TE(),2));\n",
    "    #instance.p.pprint()\n"
   ]
  },
  {
   "cell_type": "code",
   "execution_count": null,
   "id": "a97af38b-f4b2-4602-83e1-889fb535fadb",
   "metadata": {},
   "outputs": [],
   "source": []
  }
 ],
 "metadata": {
  "kernelspec": {
   "display_name": "Python 3 (ipykernel)",
   "language": "python",
   "name": "python3"
  },
  "language_info": {
   "codemirror_mode": {
    "name": "ipython",
    "version": 3
   },
   "file_extension": ".py",
   "mimetype": "text/x-python",
   "name": "python",
   "nbconvert_exporter": "python",
   "pygments_lexer": "ipython3",
   "version": "3.11.7"
  }
 },
 "nbformat": 4,
 "nbformat_minor": 5
}
