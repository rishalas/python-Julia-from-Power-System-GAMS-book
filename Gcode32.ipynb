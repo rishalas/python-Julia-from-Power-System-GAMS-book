{
  "nbformat": 4,
  "nbformat_minor": 0,
  "metadata": {
    "colab": {
      "name": "Gcode32.ipynb",
      "provenance": [],
      "authorship_tag": "ABX9TyPNZXaOZiJXdEP5ViqIV5Bl",
      "include_colab_link": true
    },
    "kernelspec": {
      "name": "python3",
      "display_name": "Python 3"
    },
    "language_info": {
      "name": "python"
    }
  },
  "cells": [
    {
      "cell_type": "markdown",
      "metadata": {
        "id": "view-in-github",
        "colab_type": "text"
      },
      "source": [
        "<a href=\"https://colab.research.google.com/github/rishalas/python-Julia-from-Power-System-GAMS-book/blob/main/Gcode32.ipynb\" target=\"_parent\"><img src=\"https://colab.research.google.com/assets/colab-badge.svg\" alt=\"Open In Colab\"/></a>"
      ]
    },
    {
      "cell_type": "markdown",
      "metadata": {
        "id": "vQ7hmhWpwtez"
      },
      "source": [
        "# Example of sensitivity analysis regarding load value in ED"
      ]
    },
    {
      "cell_type": "code",
      "metadata": {
        "colab": {
          "base_uri": "https://localhost:8080/"
        },
        "id": "8jb2DhZpwCxY",
        "outputId": "c73d29bb-d776-48e9-b301-92b66b050f92"
      },
      "source": [
        "!wget -N -q \"https://ampl.com/dl/open/ipopt/ipopt-linux64.zip\"\n",
        "!unzip -o -q ipopt-linux64\n",
        "!pip install pyomo\n",
        "from pyomo.environ import *\n",
        "import matplotlib.pyplot as plt\n",
        "import numpy as np\n",
        "import random "
      ],
      "execution_count": 1,
      "outputs": [
        {
          "output_type": "stream",
          "name": "stdout",
          "text": [
            "Collecting pyomo\n",
            "  Downloading Pyomo-6.1.2-cp37-cp37m-manylinux_2_5_x86_64.manylinux1_x86_64.manylinux_2_12_x86_64.manylinux2010_x86_64.whl (9.1 MB)\n",
            "\u001b[K     |████████████████████████████████| 9.1 MB 14.9 MB/s \n",
            "\u001b[?25hCollecting ply\n",
            "  Downloading ply-3.11-py2.py3-none-any.whl (49 kB)\n",
            "\u001b[K     |████████████████████████████████| 49 kB 3.6 MB/s \n",
            "\u001b[?25hInstalling collected packages: ply, pyomo\n",
            "Successfully installed ply-3.11 pyomo-6.1.2\n"
          ]
        }
      ]
    },
    {
      "cell_type": "code",
      "metadata": {
        "colab": {
          "resources": {
            "http://localhost:8080/nbextensions/google.colab/files.js": {
              "data": "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",
              "ok": true,
              "headers": [
                [
                  "content-type",
                  "application/javascript"
                ]
              ],
              "status": 200,
              "status_text": "OK"
            }
          },
          "base_uri": "https://localhost:8080/",
          "height": 1000
        },
        "id": "uugrt8KewODl",
        "outputId": "d6f44bfb-4ec3-43f5-cad4-a4e241f8f3aa"
      },
      "source": [
        "# making variable\n",
        "\n",
        "model = AbstractModel()\n",
        "model.gen=Set()\n",
        "model.a=Param(model.gen)\n",
        "model.b=Param(model.gen)\n",
        "model.c=Param(model.gen)\n",
        "model.Pmin=Param(model.gen)\n",
        "model.Pmax=Param(model.gen)\n",
        "model.l =Param(initialize=400,mutable=True)\n",
        "\n",
        "\n",
        "# making Objective and Constraint\n",
        "def Pbounds(model,gen):\n",
        "  return (model.Pmin[gen],model.Pmax[gen]);\n",
        "\n",
        "model.p=Var(model.gen,bounds=Pbounds,within=Reals);\n",
        "model.of=Var(within=Reals);\n",
        "\n",
        "def rule1(model,gen):\n",
        "  return sum(model.p[gen] for gen in model.gen) >= model.l;\n",
        "model.c1 = Constraint(model.gen,rule=rule1);\n",
        "\n",
        "def ruleof(model,gen):\n",
        "  return model.of ==sum((model.a[gen]*model.p[gen]*model.p[gen] + \n",
        "                             model.b[gen]*model.p[gen]+model.c[gen]) for gen in model.gen)\n",
        "model.c3= Constraint(rule=ruleof)\n",
        "model.obj=Objective(expr=model.of,sense=minimize)\n",
        "\n",
        "# input file\n",
        "from google.colab import files\n",
        "  \n",
        "  \n",
        "uploaded = files.upload()\n",
        "\n",
        "#input data and solver , credit for Dr Sanjula Kammamettu for helping solve this counter function\n",
        "\n",
        "#print('  OF', ' load')\n",
        "Nsteps = 11;\n",
        "for counter in range(1,Nsteps+1):\n",
        "    instance= model.create_instance(\"gcode31.dat\")\n",
        "    instance.l = sum (instance.Pmin[gen] for gen in instance.gen) +(counter-1)/(Nsteps-1)*sum(instance.Pmax[gen]-instance.Pmin[gen] for gen in instance.gen);\n",
        "    print('Load= ',instance.l());\n",
        "    results = SolverFactory('ipopt', executable='/content/ipopt').solve(instance)\n",
        "    print('OF =   ',value(instance.of()));\n",
        "    #instance.pprint()\n",
        "    #results.write()\n",
        "    #print(\"%5.2f\"%value(instance.l),\"%5.2f\"%value(instance.of))\n",
        "    instance.p.pprint()"
      ],
      "execution_count": 22,
      "outputs": [
        {
          "output_type": "display_data",
          "data": {
            "text/html": [
              "\n",
              "     <input type=\"file\" id=\"files-f5af724e-5555-47db-9836-6aeccd6827a8\" name=\"files[]\" multiple disabled\n",
              "        style=\"border:none\" />\n",
              "     <output id=\"result-f5af724e-5555-47db-9836-6aeccd6827a8\">\n",
              "      Upload widget is only available when the cell has been executed in the\n",
              "      current browser session. Please rerun this cell to enable.\n",
              "      </output>\n",
              "      <script src=\"/nbextensions/google.colab/files.js\"></script> "
            ],
            "text/plain": [
              "<IPython.core.display.HTML object>"
            ]
          },
          "metadata": {}
        },
        {
          "output_type": "stream",
          "name": "stdout",
          "text": [
            "Saving gcode31.dat to gcode31 (18).dat\n",
            "Load=  281.0\n",
            "OF =    84037.84838139187\n",
            "p : Size=5, Index=gen\n",
            "    Key : Lower : Value : Upper : Fixed : Stale : Domain\n",
            "     G1 :    28 :  28.0 :   206 : False : False :  Reals\n",
            "     G2 :    90 :  90.0 :   284 : False : False :  Reals\n",
            "     G3 :    68 :  68.0 :   189 : False : False :  Reals\n",
            "     G4 :    76 :  76.0 :   266 : False : False :  Reals\n",
            "     G5 :    19 :  19.0 :    53 : False : False :  Reals\n",
            "Load=  352.7\n",
            "OF =    105758.01853018063\n",
            "p : Size=5, Index=gen\n",
            "    Key : Lower : Value              : Upper : Fixed : Stale : Domain\n",
            "     G1 :    28 :  67.39040630743212 :   206 : False : False :  Reals\n",
            "     G2 :    90 :               90.0 :   284 : False : False :  Reals\n",
            "     G3 :    68 :               68.0 :   189 : False : False :  Reals\n",
            "     G4 :    76 :               76.0 :   266 : False : False :  Reals\n",
            "     G5 :    19 : 51.309592505559564 :    53 : False : False :  Reals\n",
            "Load=  424.4\n",
            "OF =    147715.93892781308\n",
            "p : Size=5, Index=gen\n",
            "    Key : Lower : Value              : Upper : Fixed : Stale : Domain\n",
            "     G1 :    28 : 112.63311951233133 :   206 : False : False :  Reals\n",
            "     G2 :    90 :               90.0 :   284 : False : False :  Reals\n",
            "     G3 :    68 :  83.98132309557016 :   189 : False : False :  Reals\n",
            "     G4 :    76 :  84.78555351807728 :   266 : False : False :  Reals\n",
            "     G5 :    19 :               53.0 :    53 : False : False :  Reals\n",
            "Load=  496.1\n",
            "OF =    203091.65028648867\n",
            "p : Size=5, Index=gen\n",
            "    Key : Lower : Value              : Upper : Fixed : Stale : Domain\n",
            "     G1 :    28 : 136.76583529541517 :   206 : False : False :  Reals\n",
            "     G2 :    90 : 101.54629774971698 :   284 : False : False :  Reals\n",
            "     G3 :    68 : 101.85740886080859 :   189 : False : False :  Reals\n",
            "     G4 :    76 : 102.93045260308045 :   266 : False : False :  Reals\n",
            "     G5 :    19 :               53.0 :    53 : False : False :  Reals\n",
            "Load=  567.8\n",
            "OF =    268132.1687897661\n",
            "p : Size=5, Index=gen\n",
            "    Key : Lower : Value              : Upper : Fixed : Stale : Domain\n",
            "     G1 :    28 : 158.94090182071872 :   206 : False : False :  Reals\n",
            "     G2 :    90 : 117.97227295363221 :   284 : False : False :  Reals\n",
            "     G3 :    68 : 118.28338406473591 :   189 : False : False :  Reals\n",
            "     G4 :    76 : 119.60343495293067 :   266 : False : False :  Reals\n",
            "     G5 :    19 :               53.0 :    53 : False : False :  Reals\n",
            "Load=  639.5\n",
            "OF =    342712.4008168305\n",
            "p : Size=5, Index=gen\n",
            "    Key : Lower : Value              : Upper : Fixed : Stale : Domain\n",
            "     G1 :    28 : 181.11596834601465 :   206 : False : False :  Reals\n",
            "     G2 :    90 : 134.39824815755702 :   284 : False : False :  Reals\n",
            "     G3 :    68 : 134.70935926866218 :   189 : False : False :  Reals\n",
            "     G4 :    76 : 136.27641730278123 :   266 : False : False :  Reals\n",
            "     G5 :    19 :               53.0 :    53 : False : False :  Reals\n",
            "Load=  711.2\n",
            "OF =    426832.3463676815\n",
            "p : Size=5, Index=gen\n",
            "    Key : Lower : Value              : Upper : Fixed : Stale : Domain\n",
            "     G1 :    28 : 203.29103487122066 :   206 : False : False :  Reals\n",
            "     G2 :    90 :  150.8242233615132 :   284 : False : False :  Reals\n",
            "     G3 :    68 : 151.13533447261713 :   189 : False : False :  Reals\n",
            "     G4 :    76 : 152.94939965266227 :   266 : False : False :  Reals\n",
            "     G5 :    19 :               53.0 :    53 : False : False :  Reals\n",
            "Load=  782.9\n",
            "OF =    522137.795301612\n",
            "p : Size=5, Index=gen\n",
            "    Key : Lower : Value             : Upper : Fixed : Stale : Domain\n",
            "     G1 :    28 :             206.0 :   206 : False : False :  Reals\n",
            "     G2 :    90 : 173.7065357518737 :   284 : False : False :  Reals\n",
            "     G3 :    68 : 174.0176468629662 :   189 : False : False :  Reals\n",
            "     G4 :    76 : 176.1758069661863 :   266 : False : False :  Reals\n",
            "     G5 :    19 :              53.0 :    53 : False : False :  Reals\n",
            "Load=  854.6\n",
            "OF =    631691.6565969964\n",
            "p : Size=5, Index=gen\n",
            "    Key : Lower : Value              : Upper : Fixed : Stale : Domain\n",
            "     G1 :    28 :              206.0 :   206 : False : False :  Reals\n",
            "     G2 :    90 :  201.8537248789085 :   284 : False : False :  Reals\n",
            "     G3 :    68 :              189.0 :   189 : False : False :  Reals\n",
            "     G4 :    76 : 204.74626209513102 :   266 : False : False :  Reals\n",
            "     G5 :    19 :               53.0 :    53 : False : False :  Reals\n",
            "Load=  926.3000000000001\n",
            "OF =    760550.4754302326\n",
            "p : Size=5, Index=gen\n",
            "    Key : Lower : Value              : Upper : Fixed : Stale : Domain\n",
            "     G1 :    28 :              206.0 :   206 : False : False :  Reals\n",
            "     G2 :    90 : 237.43618720964255 :   284 : False : False :  Reals\n",
            "     G3 :    68 :              189.0 :   189 : False : False :  Reals\n",
            "     G4 :    76 : 240.86379904737552 :   266 : False : False :  Reals\n",
            "     G5 :    19 :               53.0 :    53 : False : False :  Reals\n",
            "Load=  998.0\n",
            "OF =    911044.0617472492\n",
            "p : Size=5, Index=gen\n",
            "    Key : Lower : Value              : Upper : Fixed : Stale : Domain\n",
            "     G1 :    28 :              206.0 :   206 : False : False :  Reals\n",
            "     G2 :    90 : 283.99998288002655 :   284 : False : False :  Reals\n",
            "     G3 :    68 :              189.0 :   189 : False : False :  Reals\n",
            "     G4 :    76 :              266.0 :   266 : False : False :  Reals\n",
            "     G5 :    19 :               53.0 :    53 : False : False :  Reals\n"
          ]
        }
      ]
    }
  ]
}