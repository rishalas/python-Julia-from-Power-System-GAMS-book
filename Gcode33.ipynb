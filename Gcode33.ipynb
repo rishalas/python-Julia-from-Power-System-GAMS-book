{
  "nbformat": 4,
  "nbformat_minor": 0,
  "metadata": {
    "colab": {
      "name": "Gcode33.ipynb",
      "provenance": [],
      "authorship_tag": "ABX9TyNaDoj25a2r+kI2Ippef+po"
    },
    "kernelspec": {
      "name": "python3",
      "display_name": "Python 3"
    },
    "language_info": {
      "name": "python"
    }
  },
  "cells": [
    {
      "cell_type": "markdown",
      "metadata": {
        "id": "YDFB2GQKU-Vk"
      },
      "source": [
        "# Example of different environmental dispatch strategies"
      ]
    },
    {
      "cell_type": "code",
      "metadata": {
        "colab": {
          "base_uri": "https://localhost:8080/"
        },
        "id": "ki_BcDdyVGvl",
        "outputId": "88f40da3-b108-4a50-f23d-d4af6782fdf1"
      },
      "source": [
        "!wget -N -q \"https://ampl.com/dl/open/ipopt/ipopt-linux64.zip\"\n",
        "!unzip -o -q ipopt-linux64\n",
        "!pip install pyomo\n",
        "from pyomo.environ import *\n",
        "import matplotlib.pyplot as plt\n",
        "import numpy as np\n",
        "import random "
      ],
      "execution_count": 1,
      "outputs": [
        {
          "output_type": "stream",
          "name": "stdout",
          "text": [
            "Collecting pyomo\n",
            "  Downloading Pyomo-6.1.2-cp37-cp37m-manylinux_2_5_x86_64.manylinux1_x86_64.manylinux_2_12_x86_64.manylinux2010_x86_64.whl (9.1 MB)\n",
            "\u001b[K     |████████████████████████████████| 9.1 MB 8.3 MB/s \n",
            "\u001b[?25hCollecting ply\n",
            "  Downloading ply-3.11-py2.py3-none-any.whl (49 kB)\n",
            "\u001b[K     |████████████████████████████████| 49 kB 5.8 MB/s \n",
            "\u001b[?25hInstalling collected packages: ply, pyomo\n",
            "Successfully installed ply-3.11 pyomo-6.1.2\n"
          ]
        }
      ]
    },
    {
      "cell_type": "code",
      "metadata": {
        "colab": {
          "resources": {
            "http://localhost:8080/nbextensions/google.colab/files.js": {
              "data": "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",
              "ok": true,
              "headers": [
                [
                  "content-type",
                  "application/javascript"
                ]
              ],
              "status": 200,
              "status_text": "OK"
            }
          },
          "base_uri": "https://localhost:8080/",
          "height": 1000
        },
        "id": "sN1xedxSVKog",
        "outputId": "3914dc27-c399-40b7-a305-525d7c885b11"
      },
      "source": [
        "model = AbstractModel()\n",
        "model.gen=Set()\n",
        "model.a=Param(model.gen)\n",
        "model.b=Param(model.gen)\n",
        "model.c=Param(model.gen)\n",
        "model.d=Param(model.gen)\n",
        "model.e=Param(model.gen)\n",
        "model.f=Param(model.gen)\n",
        "model.Pmin=Param(model.gen)\n",
        "model.Pmax=Param(model.gen)\n",
        "\n",
        "#Scalar\n",
        "load = 400\n",
        "Eprice  = 0.1\n",
        "Elim = 90000\n",
        "\n",
        "#P.lo(gen)=data(gen,'Pmin')\n",
        "#P.up(gen)=data(gen,'Pmax')\n",
        "def Pbounds(model,gen):\n",
        "  return (model.Pmin[gen],model.Pmax[gen])\n",
        "\n",
        "model.p=Var(model.gen,bounds=Pbounds,within=Reals)\n",
        "model.of=Var(within=Reals)\n",
        "model.TE=Var(bounds=(None,Elim),within=Reals)\n",
        "model.TC=Var(within=Reals)\n",
        "\n",
        "\n",
        "\n",
        "def rule1(model,gen):\n",
        "  return sum(model.p[gen] for gen in model.gen) >= load \n",
        "model.c1 = Constraint(model.gen,rule=rule1)\n",
        "\n",
        "def ruleTC(model,gen):\n",
        "  return model.TC == sum((model.a[gen]*model.p[gen]*model.p[gen] + \n",
        "                              model.b[gen]*model.p[gen]+model.c[gen]) for gen in model.gen) \n",
        "model.c2 = Constraint(rule=ruleTC)\n",
        "\n",
        "def ruleTE(model,gen):\n",
        "  return model.TE == sum((model.d[gen]*model.p[gen]*model.p[gen] + \n",
        "                              model.e[gen]*model.p[gen]+model.f[gen]) for gen in model.gen) \n",
        "model.c3 = Constraint(rule=ruleTE)\n",
        "\n",
        "def ruleof(model,gen):\n",
        "    return model.of== + model.TC+model.TE * Eprice\n",
        "\n",
        "model.c4=Constraint(rule=ruleof)\n",
        "\n",
        "model.obj=Objective(expr=model.of,sense=minimize)\n",
        "\n",
        "from google.colab import files\n",
        "  \n",
        "  \n",
        "uploaded = files.upload()\n",
        "\n",
        "instance= model.create_instance(\"gcode33.dat\")\n",
        "results = SolverFactory('ipopt', executable='/content/ipopt').solve(instance).write()\n",
        "\n",
        "instance.pprint()\n",
        "print('OF =   ',value(instance.of))\n",
        "print('TC =   ',value(instance.TC))\n",
        "print('TE =   ',value(instance.TE))\n"
      ],
      "execution_count": 2,
      "outputs": [
        {
          "output_type": "display_data",
          "data": {
            "text/html": [
              "\n",
              "     <input type=\"file\" id=\"files-1e9f5df5-7f24-4b16-ac52-c31d5dea1010\" name=\"files[]\" multiple disabled\n",
              "        style=\"border:none\" />\n",
              "     <output id=\"result-1e9f5df5-7f24-4b16-ac52-c31d5dea1010\">\n",
              "      Upload widget is only available when the cell has been executed in the\n",
              "      current browser session. Please rerun this cell to enable.\n",
              "      </output>\n",
              "      <script src=\"/nbextensions/google.colab/files.js\"></script> "
            ],
            "text/plain": [
              "<IPython.core.display.HTML object>"
            ]
          },
          "metadata": {}
        },
        {
          "output_type": "stream",
          "name": "stdout",
          "text": [
            "Saving gcode33.dat to gcode33.dat\n",
            "# ==========================================================\n",
            "# = Solver Results                                         =\n",
            "# ==========================================================\n",
            "# ----------------------------------------------------------\n",
            "#   Problem Information\n",
            "# ----------------------------------------------------------\n",
            "Problem: \n",
            "- Lower bound: -inf\n",
            "  Upper bound: inf\n",
            "  Number of objectives: 1\n",
            "  Number of constraints: 8\n",
            "  Number of variables: 8\n",
            "  Sense: unknown\n",
            "# ----------------------------------------------------------\n",
            "#   Solver Information\n",
            "# ----------------------------------------------------------\n",
            "Solver: \n",
            "- Status: ok\n",
            "  Message: Ipopt 3.12.13\\x3a Optimal Solution Found\n",
            "  Termination condition: optimal\n",
            "  Id: 0\n",
            "  Error rc: 0\n",
            "  Time: 0.028066396713256836\n",
            "# ----------------------------------------------------------\n",
            "#   Solution Information\n",
            "# ----------------------------------------------------------\n",
            "Solution: \n",
            "- number of solutions: 0\n",
            "  number of solutions displayed: 0\n",
            "1 Set Declarations\n",
            "    gen : Size=1, Index=None, Ordered=Insertion\n",
            "        Key  : Dimen : Domain : Size : Members\n",
            "        None :     1 :    Any :    5 : {'G1', 'G2', 'G3', 'G4', 'G5'}\n",
            "\n",
            "8 Param Declarations\n",
            "    Pmax : Size=5, Index=gen, Domain=Any, Default=None, Mutable=False\n",
            "        Key : Value\n",
            "         G1 :   206\n",
            "         G2 :   284\n",
            "         G3 :   189\n",
            "         G4 :   266\n",
            "         G5 :    53\n",
            "    Pmin : Size=5, Index=gen, Domain=Any, Default=None, Mutable=False\n",
            "        Key : Value\n",
            "         G1 :    28\n",
            "         G2 :    90\n",
            "         G3 :    68\n",
            "         G4 :    76\n",
            "         G5 :    19\n",
            "    a : Size=5, Index=gen, Domain=Any, Default=None, Mutable=False\n",
            "        Key : Value\n",
            "         G1 :     3\n",
            "         G2 :  4.05\n",
            "         G3 :  4.05\n",
            "         G4 :  3.99\n",
            "         G5 :  3.88\n",
            "    b : Size=5, Index=gen, Domain=Any, Default=None, Mutable=False\n",
            "        Key : Value\n",
            "         G1 :    20\n",
            "         G2 : 18.07\n",
            "         G3 : 15.55\n",
            "         G4 : 19.21\n",
            "         G5 : 26.18\n",
            "    c : Size=5, Index=gen, Domain=Any, Default=None, Mutable=False\n",
            "        Key : Value\n",
            "         G1 :    100\n",
            "         G2 :  98.87\n",
            "         G3 : 104.26\n",
            "         G4 : 107.21\n",
            "         G5 :  95.31\n",
            "    d : Size=5, Index=gen, Domain=Any, Default=None, Mutable=False\n",
            "        Key : Value\n",
            "         G1 :     2\n",
            "         G2 :  3.82\n",
            "         G3 :  5.01\n",
            "         G4 :   1.1\n",
            "         G5 :  3.55\n",
            "    e : Size=5, Index=gen, Domain=Any, Default=None, Mutable=False\n",
            "        Key : Value\n",
            "         G1 :    -5\n",
            "         G2 : -4.24\n",
            "         G3 : -2.15\n",
            "         G4 : -3.99\n",
            "         G5 : -6.88\n",
            "    f : Size=5, Index=gen, Domain=Any, Default=None, Mutable=False\n",
            "        Key : Value\n",
            "         G1 :     3\n",
            "         G2 :  6.09\n",
            "         G3 :  5.69\n",
            "         G4 :   6.2\n",
            "         G5 :  5.57\n",
            "\n",
            "4 Var Declarations\n",
            "    TC : Size=1, Index=None\n",
            "        Key  : Lower : Value              : Upper : Fixed : Stale : Domain\n",
            "        None :  None : 133190.12672921098 :  None : False : False :  Reals\n",
            "    TE : Size=1, Index=None\n",
            "        Key  : Lower : Value   : Upper : Fixed : Stale : Domain\n",
            "        None :  None : 90000.0 : 90000 : False : False :  Reals\n",
            "    of : Size=1, Index=None\n",
            "        Key  : Lower : Value              : Upper : Fixed : Stale : Domain\n",
            "        None :  None : 142190.12681921074 :  None : False : False :  Reals\n",
            "    p : Size=5, Index=gen\n",
            "        Key : Lower : Value             : Upper : Fixed : Stale : Domain\n",
            "         G1 :    28 :  94.2115408216343 :   206 : False : False :  Reals\n",
            "         G2 :    90 :              90.0 :   284 : False : False :  Reals\n",
            "         G3 :    68 :              68.0 :   189 : False : False :  Reals\n",
            "         G4 :    76 : 94.78845622838234 :   266 : False : False :  Reals\n",
            "         G5 :    19 :              53.0 :    53 : False : False :  Reals\n",
            "\n",
            "1 Objective Declarations\n",
            "    obj : Size=1, Index=None, Active=True\n",
            "        Key  : Active : Sense    : Expression\n",
            "        None :   True : minimize :         of\n",
            "\n",
            "4 Constraint Declarations\n",
            "    c1 : Size=5, Index=gen, Active=True\n",
            "        Key : Lower : Body                                  : Upper : Active\n",
            "         G1 : 400.0 : p[G1] + p[G2] + p[G3] + p[G4] + p[G5] :  +Inf :   True\n",
            "         G2 : 400.0 : p[G1] + p[G2] + p[G3] + p[G4] + p[G5] :  +Inf :   True\n",
            "         G3 : 400.0 : p[G1] + p[G2] + p[G3] + p[G4] + p[G5] :  +Inf :   True\n",
            "         G4 : 400.0 : p[G1] + p[G2] + p[G3] + p[G4] + p[G5] :  +Inf :   True\n",
            "         G5 : 400.0 : p[G1] + p[G2] + p[G3] + p[G4] + p[G5] :  +Inf :   True\n",
            "    c2 : Size=1, Index=None, Active=True\n",
            "        Key  : Lower : Body                                                                                                                                                                                                        : Upper : Active\n",
            "        None :   0.0 : TC - (3*p[G1]*p[G1] + 20*p[G1] + 100 + 4.05*p[G2]*p[G2] + 18.07*p[G2] + 98.87 + 4.05*p[G3]*p[G3] + 15.55*p[G3] + 104.26 + 3.99*p[G4]*p[G4] + 19.21*p[G4] + 107.21 + 3.88*p[G5]*p[G5] + 26.18*p[G5] + 95.31) :   0.0 :   True\n",
            "    c3 : Size=1, Index=None, Active=True\n",
            "        Key  : Lower : Body                                                                                                                                                                                         : Upper : Active\n",
            "        None :   0.0 : TE - (2*p[G1]*p[G1] - 5*p[G1] + 3 + 3.82*p[G2]*p[G2] - 4.24*p[G2] + 6.09 + 5.01*p[G3]*p[G3] - 2.15*p[G3] + 5.69 + 1.1*p[G4]*p[G4] - 3.99*p[G4] + 6.2 + 3.55*p[G5]*p[G5] - 6.88*p[G5] + 5.57) :   0.0 :   True\n",
            "    c4 : Size=1, Index=None, Active=True\n",
            "        Key  : Lower : Body               : Upper : Active\n",
            "        None :   0.0 : of - (TC + 0.1*TE) :   0.0 :   True\n",
            "\n",
            "18 Declarations: gen a b c d e f Pmin Pmax p of TE TC c1 c2 c3 c4 obj\n",
            "OF =    142190.12681921074\n",
            "TC =    133190.12672921098\n",
            "TE =    90000.0\n"
          ]
        }
      ]
    }
  ]
}