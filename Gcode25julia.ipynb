{
 "cells": [
  {
   "cell_type": "code",
   "execution_count": 1,
   "id": "useful-accreditation",
   "metadata": {},
   "outputs": [],
   "source": [
    "# Gcode 2.5"
   ]
  },
  {
   "cell_type": "code",
   "execution_count": 2,
   "id": "raised-armor",
   "metadata": {},
   "outputs": [],
   "source": [
    "using JuMP\n",
    "using GLPK"
   ]
  },
  {
   "cell_type": "code",
   "execution_count": 4,
   "id": "neural-squad",
   "metadata": {},
   "outputs": [],
   "source": [
    "model = Model(GLPK.Optimizer)\n",
    "\n",
    "@variable(model,x1,Bin)\n",
    "@variable(model,x2,Bin)\n",
    "@variable(model,x3,Bin)\n",
    "@variable(model,x4,Bin)\n",
    "@variable(model,x5,Bin)\n",
    "@variable(model,x6,Bin)\n",
    "\n",
    "@constraint(model, x1+x6 >=1 )\n",
    "@constraint(model, x2 >= 1)\n",
    "@constraint(model, x4 + x5 >= 1)\n",
    "@constraint(model, x3 + x4 + x5 + x6 >= 1)\n",
    "@constraint(model, x1 + x5 + x6 >= 1)\n",
    "@constraint(model, x3 + x5 >= 1)\n",
    "\n",
    "@objective(model, Min, x1+x2+x3+x4+x5+x6)\n",
    "\n",
    "optimize!(model)\n"
   ]
  },
  {
   "cell_type": "code",
   "execution_count": 5,
   "id": "standing-richards",
   "metadata": {},
   "outputs": [
    {
     "name": "stdout",
     "output_type": "stream",
     "text": [
      "value(x1) = 1.0\n",
      "value(x2) = 1.0\n",
      "value(x3) = 0.0\n",
      "value(x4) = 0.0\n",
      "value(x5) = 1.0\n",
      "value(x6) = 0.0\n",
      "objective_value(model) = 3.0\n"
     ]
    },
    {
     "data": {
      "text/plain": [
       "3.0"
      ]
     },
     "execution_count": 5,
     "metadata": {},
     "output_type": "execute_result"
    }
   ],
   "source": [
    "@show value(x1)\n",
    "@show value(x2)\n",
    "@show value(x3)\n",
    "@show value(x4)\n",
    "@show value(x5)\n",
    "@show value(x6)\n",
    "\n",
    "@show objective_value(model)"
   ]
  },
  {
   "cell_type": "code",
   "execution_count": null,
   "id": "comparable-preliminary",
   "metadata": {},
   "outputs": [],
   "source": []
  }
 ],
 "metadata": {
  "kernelspec": {
   "display_name": "Julia 1.6.0",
   "language": "julia",
   "name": "julia-1.6"
  },
  "language_info": {
   "file_extension": ".jl",
   "mimetype": "application/julia",
   "name": "julia",
   "version": "1.6.0"
  }
 },
 "nbformat": 4,
 "nbformat_minor": 5
}
